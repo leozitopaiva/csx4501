{
 "cells": [
  {
   "cell_type": "markdown",
   "id": "31a21b2f-ffcc-498b-8e10-71b6ed8f2ad1",
   "metadata": {},
   "source": [
    "# NLP Visualizations of Macbeth and Romeo and Juliet"
   ]
  },
  {
   "cell_type": "markdown",
   "id": "193b2a89-3209-4577-841a-fefc38646b6f",
   "metadata": {},
   "source": [
    "Execute the following cell for important imports."
   ]
  },
  {
   "cell_type": "code",
   "execution_count": 135,
   "id": "3865fca7-0ae1-4bae-a6b8-64fdb69ded40",
   "metadata": {},
   "outputs": [
    {
     "name": "stdout",
     "output_type": "stream",
     "text": [
      "Requirement already satisfied: nltk in /opt/conda/lib/python3.7/site-packages (3.7)\n",
      "Requirement already satisfied: joblib in /opt/conda/lib/python3.7/site-packages (from nltk) (1.1.0)\n",
      "Requirement already satisfied: tqdm in /opt/conda/lib/python3.7/site-packages (from nltk) (4.63.0)\n",
      "Requirement already satisfied: regex>=2021.8.3 in /opt/conda/lib/python3.7/site-packages (from nltk) (2022.8.17)\n",
      "Requirement already satisfied: click in /opt/conda/lib/python3.7/site-packages (from nltk) (8.0.4)\n",
      "Requirement already satisfied: importlib-metadata in /opt/conda/lib/python3.7/site-packages (from click->nltk) (4.11.3)\n",
      "Requirement already satisfied: zipp>=0.5 in /opt/conda/lib/python3.7/site-packages (from importlib-metadata->click->nltk) (3.7.0)\n",
      "Requirement already satisfied: typing-extensions>=3.6.4 in /opt/conda/lib/python3.7/site-packages (from importlib-metadata->click->nltk) (4.1.1)\n"
     ]
    }
   ],
   "source": [
    "!pip install nltk\n",
    "import requests\n",
    "import matplotlib.pyplot as plt\n",
    "import nltk\n",
    "from nltk.tokenize import word_tokenize\n",
    "from nltk.sentiment import vader\n",
    "from nltk.corpus import stopwords\n",
    "from nltk.corpus import opinion_lexicon\n",
    "from nltk.stem.porter import PorterStemmer"
   ]
  },
  {
   "cell_type": "markdown",
   "id": "c32a0d8c-d509-4a95-9a3c-2268d4d2ea54",
   "metadata": {},
   "source": [
    "Execute the following cell to get the text of \"Macbeth\" and \"Romeo and Juliet\" from [Project Gutenberg](https://www.gutenberg.org/) "
   ]
  },
  {
   "cell_type": "code",
   "execution_count": 136,
   "id": "e5c47602-5ea0-4d58-95f8-964c4de51786",
   "metadata": {},
   "outputs": [],
   "source": [
    "target_url = \"https://www.gutenberg.org/files/1533/1533-0.txt\"\n",
    "response = requests.get(target_url)\n",
    "macbeth_string = response.text\n",
    "macbeth_string = macbeth_string.split('*** START OF THE PROJECT GUTENBERG EBOOK MACBETH ***')[1]\n",
    "macbeth_string = macbeth_string.split('*** END OF THE PROJECT GUTENBERG EBOOK MACBETH ***')[0]\n",
    "macbeth_string = macbeth_string.lower()\n",
    "\n",
    "target_url = \"https://www.gutenberg.org/files/1513/1513-0.txt\"\n",
    "response = requests.get(target_url)\n",
    "r_j_string = response.text\n",
    "r_j_string = r_j_string.split('*** START OF THE PROJECT GUTENBERG EBOOK ROMEO AND JULIET ***')[1]\n",
    "r_j_string = r_j_string.split('*** END OF THE PROJECT GUTENBERG EBOOK ROMEO AND JULIET ***')[0]\n",
    "r_j_scenes = [i.lower() for i in r_j_string.split('SCENE')[1:]]"
   ]
  },
  {
   "cell_type": "markdown",
   "id": "f7f8e864-da7b-415e-b9e9-52488fe06037",
   "metadata": {},
   "source": [
    "You now have the following variables:\n",
    "* `macbeth_string`: this string contains the full text of \"Macbeth\"\n",
    "* `r_j_string`: this string contains the full text of \"Romeo and Juliet\"\n",
    "* `r_j_scenes`: the text from each scene of \"Romeo and Juliet\" is included in this Python list, with one scene per list item"
   ]
  },
  {
   "cell_type": "markdown",
   "id": "22a2f090-2ea3-4161-8989-59fcba76f10c",
   "metadata": {},
   "source": [
    "Make two new variables:\n",
    "* a Python list of stopwords\n",
    "* a variable for using VADER's SentimentIntensityAnalyzer"
   ]
  },
  {
   "cell_type": "code",
   "execution_count": 137,
   "id": "1cfc67ec-6f23-415c-9ffa-d84073534a09",
   "metadata": {},
   "outputs": [
    {
     "name": "stderr",
     "output_type": "stream",
     "text": [
      "[nltk_data] Downloading package stopwords to\n",
      "[nltk_data]     /home/jupyter/nltk_data...\n",
      "[nltk_data]   Package stopwords is already up-to-date!\n",
      "[nltk_data] Downloading package punkt to /home/jupyter/nltk_data...\n",
      "[nltk_data]   Package punkt is already up-to-date!\n"
     ]
    }
   ],
   "source": [
    "nltk.download('stopwords')\n",
    "nltk.download('punkt')\n",
    "from string import punctuation"
   ]
  },
  {
   "cell_type": "code",
   "execution_count": 138,
   "id": "df8734b4-15da-41df-8744-388c3be8ecf7",
   "metadata": {},
   "outputs": [],
   "source": [
    "myStopWords = list(punctuation) + stopwords.words('english')\n",
    "sid = vader.SentimentIntensityAnalyzer()"
   ]
  },
  {
   "cell_type": "markdown",
   "id": "ab07823c-6968-447e-84fa-67859376b5cd",
   "metadata": {},
   "source": [
    "## Macbeth"
   ]
  },
  {
   "cell_type": "markdown",
   "id": "df298e1f-69af-4496-aaa2-7cbc9a42f31c",
   "metadata": {},
   "source": [
    "Make a list of the words in Macbeth by tokenizing the macbeth_string:"
   ]
  },
  {
   "cell_type": "code",
   "execution_count": 139,
   "id": "dd29e2bb-8981-478c-8d59-389f8223f4f8",
   "metadata": {
    "tags": []
   },
   "outputs": [],
   "source": [
    "words = word_tokenize(macbeth_string)"
   ]
  },
  {
   "cell_type": "markdown",
   "id": "904a4113-dd27-436f-bfa9-6595bad1f594",
   "metadata": {
    "tags": []
   },
   "source": [
    "Next, make a list of positive words and a list of negative words using the `polarity_scores` method of VADER's SentimentIntensityAnalyzer.\n",
    "\n",
    "Write a for loop that iterates over your Macbeth word list, and:\n",
    "* if the compound score of a word is positive, add the word to the positive-word list\n",
    "* if the compound score of a word is negative, add the word to the negative-word list"
   ]
  },
  {
   "cell_type": "code",
   "execution_count": 140,
   "id": "2df752c7-6bd2-4e31-8e59-1e207926ac4d",
   "metadata": {
    "tags": []
   },
   "outputs": [],
   "source": [
    "sid = vader.SentimentIntensityAnalyzer()\n",
    "pos_word_list=[]\n",
    "neu_word_list=[]\n",
    "neg_word_list=[]\n",
    "\n",
    "for word in words:\n",
    "    if (sid.polarity_scores(word)['compound']) >= 0.1:\n",
    "        pos_word_list.append(word)\n",
    "    elif (sid.polarity_scores(word)['compound']) <= -0.1:\n",
    "        neg_word_list.append(word)\n",
    "    else:\n",
    "        neu_word_list.append(word)                \n",
    "\n",
    "#print('Positive:',pos_word_list)        \n",
    "#print('Neutral:',neu_word_list)    \n",
    "#print('Negative:',neg_word_list) \n",
    "#score = sid.polarity_scores(words)\n",
    "#print('\\nScores:', score)"
   ]
  },
  {
   "cell_type": "markdown",
   "id": "d0d06112-820c-4960-99de-d1123e47d021",
   "metadata": {},
   "source": [
    "For any list `mylist`, you can get the word frequencies of words in `mylist` using `nltk.FreqDist(mylist)`, and you can get the `n` most common words with `nltk.FreqDist(mylist).most_common(n)`.\n",
    "\n",
    "Use these commands to:\n",
    "1. find the 15 most common negative words in Macbeth and the 15 most common positive words\n",
    "2. make a horizontal bar plot similar to the plots in the following\n",
    "3. comment on similarities and differences to the Macbeth plot below\n",
    "\n",
    "(Plot taken from https://peerchristensen.netlify.app/post/fair-is-foul-and-foul-is-fair-a-tidytext-entiment-analysis-of-shakespeare-s-tragedies/)\n",
    "\n",
    "![Pos-Neg-Words in Shakespeare](https://peerchristensen.netlify.com/post/2018-06-07-fair-is-foul-and-foul-is-fair-a-tidytext-entiment-analysis-of-shakespeare-s-tragedies_files/figure-html/unnamed-chunk-19-1.png)"
   ]
  },
  {
   "cell_type": "code",
   "execution_count": 141,
   "id": "90e13d2a-fe2b-43c1-8a38-252a2e283b7f",
   "metadata": {},
   "outputs": [
    {
     "data": {
      "text/plain": [
       "[('no', 67),\n",
       " ('witch', 52),\n",
       " ('fear', 33),\n",
       " ('murderer', 33),\n",
       " ('death', 20),\n",
       " ('strange', 16),\n",
       " ('poor', 16),\n",
       " ('bloody', 15),\n",
       " ('dead', 14),\n",
       " ('fight', 11),\n",
       " ('cry', 9),\n",
       " ('fears', 8),\n",
       " ('hell', 8),\n",
       " ('murderers', 7),\n",
       " ('devil', 7)]"
      ]
     },
     "execution_count": 141,
     "metadata": {},
     "output_type": "execute_result"
    }
   ],
   "source": [
    "# Code:\n",
    "#15 most common negative words \n",
    "nltk.FreqDist(neg_word_list).most_common(15)\n"
   ]
  },
  {
   "cell_type": "code",
   "execution_count": 142,
   "id": "7e86154d-85c7-4293-ae4b-9f2d464e1ab5",
   "metadata": {},
   "outputs": [
    {
     "data": {
      "text/plain": [
       "[('good', 52),\n",
       " ('like', 40),\n",
       " ('well', 34),\n",
       " ('great', 31),\n",
       " ('hand', 22),\n",
       " ('love', 19),\n",
       " ('worthy', 17),\n",
       " ('heaven', 15),\n",
       " ('god', 12),\n",
       " ('noble', 12),\n",
       " ('pray', 12),\n",
       " ('welcome', 11),\n",
       " ('honour', 10),\n",
       " ('peace', 10),\n",
       " ('grace', 10)]"
      ]
     },
     "execution_count": 142,
     "metadata": {},
     "output_type": "execute_result"
    }
   ],
   "source": [
    "#15 most common positive words\n",
    "nltk.FreqDist(pos_word_list).most_common(15)"
   ]
  },
  {
   "cell_type": "code",
   "execution_count": 143,
   "id": "0fcb4476-d63b-4d6a-98d8-4348685a1684",
   "metadata": {},
   "outputs": [],
   "source": [
    "import numpy as np\n",
    "import matplotlib.pyplot as plt\n",
    "import pandas as pd"
   ]
  },
  {
   "cell_type": "code",
   "execution_count": 144,
   "id": "2b8b0abc-3d53-4d58-9d42-4242c1518489",
   "metadata": {},
   "outputs": [],
   "source": [
    "#Assiginig most common negative and positive worlds to a variable\n",
    "negWords = nltk.FreqDist(neg_word_list).most_common(15)\n",
    "posWords = nltk.FreqDist(pos_word_list).most_common(15)\n",
    "#Adding the variables into a dataframe, so I can plot the information necessary\n",
    "#Manilupaling colums name, so I can use it as reference whne plotting the information\n",
    "#xn = x of negative\n",
    "#yn = y of negative\n",
    "#xp = x of postitive\n",
    "#yp = y of positive\n",
    "dfNeg=pd.DataFrame(negWords, columns=[\"xn\", \"yn\"])\n",
    "dfPos=pd.DataFrame(posWords, columns=[\"xp\", \"yp\"])"
   ]
  },
  {
   "cell_type": "code",
   "execution_count": 145,
   "id": "9e1fa759-8f56-418e-9264-6f6614e3dbc6",
   "metadata": {},
   "outputs": [
    {
     "data": {
      "text/plain": [
       "<AxesSubplot:title={'center':'Positive'}, ylabel='Words'>"
      ]
     },
     "execution_count": 145,
     "metadata": {},
     "output_type": "execute_result"
    },
    {
     "data": {
      "image/png": "[encoded data removed]",
      "text/plain": [
       "<Figure size 864x432 with 1 Axes>"
      ]
     },
     "metadata": {
      "needs_background": "light"
     },
     "output_type": "display_data"
    },
    {
     "data": {
      "image/png": "[encoded data removed]",
      "text/plain": [
       "<Figure size 864x432 with 1 Axes>"
      ]
     },
     "metadata": {
      "needs_background": "light"
     },
     "output_type": "display_data"
    }
   ],
   "source": [
    "dfNeg.sort_values(by='yn').plot(x='xn', y='yn', kind='barh',xlabel='Words', title='Negative', figsize=(12,6))\n",
    "   \n",
    "dfPos.sort_values(by='yp').plot(x='xp', y='yp', kind='barh',xlabel='Words', title='Positive', figsize=(12,6))\n"
   ]
  },
  {
   "cell_type": "markdown",
   "id": "dc027164-959a-4aaa-a675-f4d5da79c153",
   "metadata": {},
   "source": [
    "# Make this a markdown cell for your comments:\n",
    "\n",
    "On the ogirinal plot there is no nostopwords, on the graph that I ploted there is stopworlds on it. also a few worlds has different count numbers."
   ]
  },
  {
   "cell_type": "markdown",
   "id": "0a595931-82f3-4812-a6e8-498a9a4b9e00",
   "metadata": {},
   "source": [
    "The word list we created from Macbeth did not have the stopwords removed.\n",
    "* Repeat the above analysis, but do so for a list of Macbeth words in which the stopwords have been removed.\n",
    "* What changes?"
   ]
  },
  {
   "cell_type": "code",
   "execution_count": 146,
   "id": "a1ddbb75-9bba-4d60-a00e-44c9d4010a8c",
   "metadata": {},
   "outputs": [],
   "source": [
    "# Code:\n",
    "#Removing Stoping words\n",
    "wordsNoStop = []\n",
    "for i in words:\n",
    "    if i not in myStopWords:\n",
    "        wordsNoStop.append(i)\n",
    "#print(words)\n",
    "#print(wordsNoStop)\n"
   ]
  },
  {
   "cell_type": "code",
   "execution_count": 147,
   "id": "02acce22-732e-4d96-81ab-ac9c3bc6382d",
   "metadata": {},
   "outputs": [],
   "source": [
    "sid = vader.SentimentIntensityAnalyzer()\n",
    "pos_word_list=[]\n",
    "neu_word_list=[]\n",
    "neg_word_list=[]\n",
    "\n",
    "for word in wordsNoStop:\n",
    "    if (sid.polarity_scores(word)['compound']) >= 0.1:\n",
    "        pos_word_list.append(word)\n",
    "    elif (sid.polarity_scores(word)['compound']) <= -0.1:\n",
    "        neg_word_list.append(word)\n",
    "    else:\n",
    "        neu_word_list.append(word) "
   ]
  },
  {
   "cell_type": "code",
   "execution_count": 148,
   "id": "fb9cc234-d6ab-4c26-ad21-3873fecb0123",
   "metadata": {},
   "outputs": [
    {
     "data": {
      "text/plain": [
       "[('witch', 52),\n",
       " ('fear', 33),\n",
       " ('murderer', 33),\n",
       " ('death', 20),\n",
       " ('strange', 16),\n",
       " ('poor', 16),\n",
       " ('bloody', 15),\n",
       " ('dead', 14),\n",
       " ('fight', 11),\n",
       " ('cry', 9),\n",
       " ('fears', 8),\n",
       " ('hell', 8),\n",
       " ('murderers', 7),\n",
       " ('devil', 7),\n",
       " ('died', 7)]"
      ]
     },
     "execution_count": 148,
     "metadata": {},
     "output_type": "execute_result"
    }
   ],
   "source": [
    "#15 most common negative words \n",
    "nltk.FreqDist(neg_word_list).most_common(15)"
   ]
  },
  {
   "cell_type": "code",
   "execution_count": 149,
   "id": "e3d47bde-c7cf-405d-981c-ef80dedca3fd",
   "metadata": {},
   "outputs": [
    {
     "data": {
      "text/plain": [
       "[('good', 52),\n",
       " ('like', 40),\n",
       " ('well', 34),\n",
       " ('great', 31),\n",
       " ('hand', 22),\n",
       " ('love', 19),\n",
       " ('worthy', 17),\n",
       " ('heaven', 15),\n",
       " ('god', 12),\n",
       " ('noble', 12),\n",
       " ('pray', 12),\n",
       " ('welcome', 11),\n",
       " ('honour', 10),\n",
       " ('peace', 10),\n",
       " ('grace', 10)]"
      ]
     },
     "execution_count": 149,
     "metadata": {},
     "output_type": "execute_result"
    }
   ],
   "source": [
    "#15 most common positive words\n",
    "nltk.FreqDist(pos_word_list).most_common(15)"
   ]
  },
  {
   "cell_type": "code",
   "execution_count": 150,
   "id": "e6741a05-2443-4e3b-bf09-d9bfd4071e23",
   "metadata": {},
   "outputs": [
    {
     "data": {
      "text/plain": [
       "<AxesSubplot:title={'center':'Positive'}, ylabel='Words'>"
      ]
     },
     "execution_count": 150,
     "metadata": {},
     "output_type": "execute_result"
    },
    {
     "data": {
      "image/png": "[encoded data removed]",
      "text/plain": [
       "<Figure size 864x432 with 1 Axes>"
      ]
     },
     "metadata": {
      "needs_background": "light"
     },
     "output_type": "display_data"
    },
    {
     "data": {
      "image/png": "[encoded data removed]",
      "text/plain": [
       "<Figure size 864x432 with 1 Axes>"
      ]
     },
     "metadata": {
      "needs_background": "light"
     },
     "output_type": "display_data"
    }
   ],
   "source": [
    "negWords = nltk.FreqDist(neg_word_list).most_common(15)\n",
    "dfNeg=pd.DataFrame(negWords, columns=[\"xn\", \"yn\"])\n",
    "posWords = nltk.FreqDist(pos_word_list).most_common(15)\n",
    "dfPos=pd.DataFrame(posWords, columns=[\"xp\", \"yp\"])\n",
    "\n",
    "\n",
    "dfNeg.sort_values(by='yn').plot(x='xn', y='yn', kind='barh',xlabel='Words', title='Negative', figsize=(12,6))\n",
    "   \n",
    "dfPos.sort_values(by='yp').plot(x='xp', y='yp', kind='barh',xlabel='Words', title='Positive', figsize=(12,6))"
   ]
  },
  {
   "cell_type": "markdown",
   "id": "b271ec30-f242-40a3-b36f-3412bd569538",
   "metadata": {},
   "source": [
    "# Make this a markdown cell for your comments:\n",
    "\n",
    "I removed nostop workds and run everything again. I noticed that a few world count is a bit different from the origitanl plot"
   ]
  },
  {
   "cell_type": "markdown",
   "id": "463cac33-ddc0-4cb8-af99-cbf975511f53",
   "metadata": {},
   "source": [
    "* Repeat the above analysis one more time -> in addition to removing the stopwords, use the Porter stemmer to get a list of stemmed words before you calculate the word frequencies.\n",
    "* What words in your plot have now been counted together?"
   ]
  },
  {
   "cell_type": "code",
   "execution_count": 151,
   "id": "f80242a7-e2ea-417e-9a0e-1291cb757cf8",
   "metadata": {
    "tags": []
   },
   "outputs": [],
   "source": [
    "# Code:\n",
    "\n",
    "wordPorterStems = [PorterStemmer().stem(w) for w in words]"
   ]
  },
  {
   "cell_type": "code",
   "execution_count": 152,
   "id": "eac0f49e-6018-45d5-97d7-079c35455a46",
   "metadata": {},
   "outputs": [],
   "source": [
    "#Removing Stoping words from wordsNoStop2 Potter stem\n",
    "wordsNoStop2 = []\n",
    "for i in wordPorterStems:\n",
    "    if i not in myStopWords:\n",
    "        wordsNoStop2.append(i)"
   ]
  },
  {
   "cell_type": "code",
   "execution_count": 153,
   "id": "3d02f20a-acad-40ac-a2b5-0bf92d4e221c",
   "metadata": {},
   "outputs": [],
   "source": [
    "sid = vader.SentimentIntensityAnalyzer()\n",
    "pos_word_list=[]\n",
    "neu_word_list=[]\n",
    "neg_word_list=[]\n",
    "\n",
    "for word in wordsNoStop2:\n",
    "    if (sid.polarity_scores(word)['compound']) >= 0.1:\n",
    "        pos_word_list.append(word)\n",
    "    elif (sid.polarity_scores(word)['compound']) <= -0.1:\n",
    "        neg_word_list.append(word)\n",
    "    else:\n",
    "        neu_word_list.append(word) "
   ]
  },
  {
   "cell_type": "code",
   "execution_count": 154,
   "id": "57e53ed7-e567-4b4a-bee2-b38de6dd231e",
   "metadata": {},
   "outputs": [
    {
     "data": {
      "text/plain": [
       "[('witch', 58),\n",
       " ('murder', 50),\n",
       " ('fear', 42),\n",
       " ('death', 20),\n",
       " ('poor', 16),\n",
       " ('dead', 14),\n",
       " ('die', 13),\n",
       " ('fight', 12),\n",
       " ('shake', 9),\n",
       " ('doubt', 8),\n",
       " ('hell', 8),\n",
       " ('sorrow', 8),\n",
       " ('devil', 7),\n",
       " ('harm', 7),\n",
       " ('grave', 7)]"
      ]
     },
     "execution_count": 154,
     "metadata": {},
     "output_type": "execute_result"
    }
   ],
   "source": [
    "#15 most common negative words \n",
    "nltk.FreqDist(neg_word_list).most_common(15)"
   ]
  },
  {
   "cell_type": "code",
   "execution_count": 155,
   "id": "6b741e94-6249-4084-8f7b-11a79177162f",
   "metadata": {},
   "outputs": [
    {
     "data": {
      "text/plain": [
       "[('good', 54),\n",
       " ('like', 40),\n",
       " ('well', 34),\n",
       " ('hand', 34),\n",
       " ('great', 34),\n",
       " ('love', 25),\n",
       " ('ha', 21),\n",
       " ('heaven', 17),\n",
       " ('friend', 15),\n",
       " ('honour', 14),\n",
       " ('grace', 13),\n",
       " ('thank', 13),\n",
       " ('god', 12),\n",
       " ('hope', 12),\n",
       " ('pray', 12)]"
      ]
     },
     "execution_count": 155,
     "metadata": {},
     "output_type": "execute_result"
    }
   ],
   "source": [
    "#15 most common positive words\n",
    "nltk.FreqDist(pos_word_list).most_common(15)"
   ]
  },
  {
   "cell_type": "code",
   "execution_count": 156,
   "id": "10f09527-350f-49a1-9f97-dfe5bde7b800",
   "metadata": {},
   "outputs": [
    {
     "data": {
      "text/plain": [
       "<AxesSubplot:title={'center':'Positive'}, ylabel='Words'>"
      ]
     },
     "execution_count": 156,
     "metadata": {},
     "output_type": "execute_result"
    },
    {
     "data": {
      "image/png": "[encoded data removed]",
      "text/plain": [
       "<Figure size 864x432 with 1 Axes>"
      ]
     },
     "metadata": {
      "needs_background": "light"
     },
     "output_type": "display_data"
    },
    {
     "data": {
      "image/png": "[encoded data removed]",
      "text/plain": [
       "<Figure size 864x432 with 1 Axes>"
      ]
     },
     "metadata": {
      "needs_background": "light"
     },
     "output_type": "display_data"
    }
   ],
   "source": [
    "negWords = nltk.FreqDist(neg_word_list).most_common(15)\n",
    "dfNeg=pd.DataFrame(negWords, columns=[\"xn\", \"yn\"])\n",
    "posWords = nltk.FreqDist(pos_word_list).most_common(15)\n",
    "dfPos=pd.DataFrame(posWords, columns=[\"xp\", \"yp\"])\n",
    "\n",
    "\n",
    "dfNeg.sort_values(by='yn').plot(x='xn', y='yn', kind='barh',xlabel='Words', title='Negative', figsize=(12,6))\n",
    "   \n",
    "dfPos.sort_values(by='yp').plot(x='xp', y='yp', kind='barh',xlabel='Words', title='Positive', figsize=(12,6))"
   ]
  },
  {
   "cell_type": "code",
   "execution_count": null,
   "id": "927d30bd-1cce-4791-9f1a-f77f5d6247e9",
   "metadata": {},
   "outputs": [],
   "source": []
  },
  {
   "cell_type": "markdown",
   "id": "0d241486-1cb1-4a8e-93d0-4f06a2c0362d",
   "metadata": {},
   "source": [
    "# Make this a markdown cell for your comments:\n",
    "\n",
    "## Negative \"deed, die, shake, hell, grave\"\n",
    "\n",
    "\n",
    "## Positive \"great, ha, thank\""
   ]
  },
  {
   "cell_type": "markdown",
   "id": "75f33369-518b-48dd-9280-24245212e78c",
   "metadata": {},
   "source": [
    "## Romeo and Juliet"
   ]
  },
  {
   "cell_type": "markdown",
   "id": "2727f7e2-d000-4256-b766-59bd98dcb550",
   "metadata": {},
   "source": [
    "We are now going to plot the evolution of sentiment in Romeo and Juliet.\n",
    "\n",
    "This is motivated by the following plot (also from the afore-mentioned link):\n",
    "![Sentiment Evolution in Shakespeare](https://peerchristensen.netlify.com/post/2018-06-07-fair-is-foul-and-foul-is-fair-a-tidytext-entiment-analysis-of-shakespeare-s-tragedies_files/figure-html/unnamed-chunk-11-1.png)"
   ]
  },
  {
   "cell_type": "markdown",
   "id": "1b53dedb-e8f6-4084-82ae-6b5695e59fba",
   "metadata": {},
   "source": [
    "We are going to make a couple different plots."
   ]
  },
  {
   "cell_type": "markdown",
   "id": "1ff5a05a-43fe-4e9d-b039-1ff5b3f65b04",
   "metadata": {},
   "source": [
    "First:\n",
    "* Write a for loop that iterate over the scenes in Romeo and Juliet (`r_j_scenes`), and for each scene:\n",
    "  * Make a list of the scene's words by tokenizing the string\n",
    "  * Calculate the total scene sentiment score by summing the compound scores of all the words in that scene\n",
    "* Make a bar plot that has the scene number on the horizontal axis and the sentiment scores as the bar heights.\n",
    "* Comment on its resemblance to the Romeo and Juliet plot above."
   ]
  },
  {
   "cell_type": "code",
   "execution_count": 157,
   "id": "e919f775-2515-4329-a86f-3f95eff535b6",
   "metadata": {},
   "outputs": [],
   "source": [
    "# Code:\n",
    "dfall = pd.DataFrame({'scenes':r_j_scenes})\n"
   ]
  },
  {
   "cell_type": "code",
   "execution_count": 158,
   "id": "1bd148f2-64b3-4a68-b7a8-290423e06755",
   "metadata": {},
   "outputs": [],
   "source": [
    "def getSentiment(scenes):\n",
    "    return sid.polarity_scores(scenes)['compound']"
   ]
  },
  {
   "cell_type": "code",
   "execution_count": 159,
   "id": "0143a455-5a0c-4cb9-b8c6-2da6c77b0353",
   "metadata": {},
   "outputs": [],
   "source": [
    "dfall['VaderSentiment'] = [getSentiment(scenes) for scenes in dfall['scenes']]"
   ]
  },
  {
   "cell_type": "code",
   "execution_count": 160,
   "id": "80919e67-27a0-4a20-a697-089fe85c7593",
   "metadata": {},
   "outputs": [
    {
     "data": {
      "text/plain": [
       "17"
      ]
     },
     "execution_count": 160,
     "metadata": {},
     "output_type": "execute_result"
    }
   ],
   "source": [
    "dfall.loc[(dfall['VaderSentiment']>0),'scenes'].count()"
   ]
  },
  {
   "cell_type": "code",
   "execution_count": 161,
   "id": "3b0f793e-5ccb-496f-adee-1340ae981731",
   "metadata": {},
   "outputs": [
    {
     "data": {
      "text/plain": [
       "8"
      ]
     },
     "execution_count": 161,
     "metadata": {},
     "output_type": "execute_result"
    }
   ],
   "source": [
    "dfall.loc[(dfall['VaderSentiment']<0),'scenes'].count()"
   ]
  },
  {
   "cell_type": "code",
   "execution_count": 162,
   "id": "894918ca-0dea-4c9d-b782-28a4790a6fc4",
   "metadata": {},
   "outputs": [
    {
     "data": {
      "text/plain": [
       "<AxesSubplot:title={'center':'Scenes'}, xlabel='Scenes Number'>"
      ]
     },
     "execution_count": 162,
     "metadata": {},
     "output_type": "execute_result"
    },
    {
     "data": {
      "image/png": "[encoded data removed]",
      "text/plain": [
       "<Figure size 1728x432 with 1 Axes>"
      ]
     },
     "metadata": {
      "needs_background": "light"
     },
     "output_type": "display_data"
    }
   ],
   "source": [
    "dfall.plot(kind='bar',xlabel='Scenes Number', title='Scenes', figsize=(24,6))"
   ]
  },
  {
   "cell_type": "code",
   "execution_count": null,
   "id": "20f55faa-7483-42df-861b-096b242077f8",
   "metadata": {},
   "outputs": [],
   "source": []
  },
  {
   "cell_type": "markdown",
   "id": "d6898eee-b05c-4da8-bac3-6527d5253c6d",
   "metadata": {},
   "source": [
    "# Make this a markdown cell for your comments:\n",
    "\n",
    "According to the plot and the count we are able to identify more positive scenes (17) than negative scenes (8)"
   ]
  },
  {
   "cell_type": "markdown",
   "id": "c9bccdd8-4fe2-4ae1-92bb-267d5e347271",
   "metadata": {},
   "source": [
    "Second:\n",
    "* Write a for loop that iterate over the scenes in Romeo and Juliet (`r_j_scenes`), and for each scene:\n",
    "  * Make a list of the scene's words by tokenizing the string\n",
    "  * Calculate the total scene sentiment score by **adding 1 to the score for each positive word (compound_score > 0) and substracting 1 from the score for each negative word (compound_score < 0)**\n",
    "    * This total is the difference between the positive and negative word counts\n",
    "* Make a bar plot that has the scene number on the horizontal axis and the sentiment scores as the bar heights.\n",
    "* Does this change the plot relative to the previous method of calculating the total scene sentiment score?"
   ]
  },
  {
   "cell_type": "code",
   "execution_count": 163,
   "id": "afbe74a0-6b04-431f-b8e2-d9977af5b20d",
   "metadata": {},
   "outputs": [
    {
     "data": {
      "text/plain": [
       "<AxesSubplot:title={'center':'Scenes'}, xlabel='Scenes Number'>"
      ]
     },
     "execution_count": 163,
     "metadata": {},
     "output_type": "execute_result"
    },
    {
     "data": {
      "image/png": "[encoded data removed]",
      "text/plain": [
       "<Figure size 1728x432 with 1 Axes>"
      ]
     },
     "metadata": {
      "needs_background": "light"
     },
     "output_type": "display_data"
    }
   ],
   "source": [
    "# Code:\n",
    "\n",
    "# Code:\n",
    "dfall = pd.DataFrame({'scenes':r_j_scenes})\n",
    "\n",
    "def getSentiment(scenes):\n",
    "    return sid.polarity_scores(scenes)['compound']\n",
    "\n",
    "dfall['VaderSentiment'] = [getSentiment(scenes) for scenes in dfall['scenes']]\n",
    "\n",
    "dfall['Polarity'] = np.where(dfall['VaderSentiment']>0, 1, -1)\n",
    "dfall.plot(kind='bar',xlabel='Scenes Number', title='Scenes', figsize=(24,6))"
   ]
  },
  {
   "cell_type": "code",
   "execution_count": 164,
   "id": "741a4fc3-f006-4f1d-92a8-3e020aa2df98",
   "metadata": {},
   "outputs": [
    {
     "data": {
      "text/html": [
       "<div>\n",
       "<style scoped>\n",
       "    .dataframe tbody tr th:only-of-type {\n",
       "        vertical-align: middle;\n",
       "    }\n",
       "\n",
       "    .dataframe tbody tr th {\n",
       "        vertical-align: top;\n",
       "    }\n",
       "\n",
       "    .dataframe thead th {\n",
       "        text-align: right;\n",
       "    }\n",
       "</style>\n",
       "<table border=\"1\" class=\"dataframe\">\n",
       "  <thead>\n",
       "    <tr style=\"text-align: right;\">\n",
       "      <th></th>\n",
       "      <th>scenes</th>\n",
       "      <th>VaderSentiment</th>\n",
       "      <th>Polarity</th>\n",
       "    </tr>\n",
       "  </thead>\n",
       "  <tbody>\n",
       "    <tr>\n",
       "      <th>0</th>\n",
       "      <td>. during the greater part of the play in veron...</td>\n",
       "      <td>-0.4310</td>\n",
       "      <td>-1</td>\n",
       "    </tr>\n",
       "    <tr>\n",
       "      <th>1</th>\n",
       "      <td>i. a public place.\\r\\n\\r\\n enter sampson and ...</td>\n",
       "      <td>0.9552</td>\n",
       "      <td>1</td>\n",
       "    </tr>\n",
       "    <tr>\n",
       "      <th>2</th>\n",
       "      <td>ii. a street.\\r\\n\\r\\n enter capulet, paris an...</td>\n",
       "      <td>0.9992</td>\n",
       "      <td>1</td>\n",
       "    </tr>\n",
       "    <tr>\n",
       "      <th>3</th>\n",
       "      <td>iii. room in capuletâs house.\\r\\n\\r\\n enter...</td>\n",
       "      <td>0.9993</td>\n",
       "      <td>1</td>\n",
       "    </tr>\n",
       "    <tr>\n",
       "      <th>4</th>\n",
       "      <td>iv. a street.\\r\\n\\r\\n enter romeo, mercutio, ...</td>\n",
       "      <td>0.9959</td>\n",
       "      <td>1</td>\n",
       "    </tr>\n",
       "    <tr>\n",
       "      <th>5</th>\n",
       "      <td>v. a hall in capuletâs house.\\r\\n\\r\\n music...</td>\n",
       "      <td>0.9996</td>\n",
       "      <td>1</td>\n",
       "    </tr>\n",
       "    <tr>\n",
       "      <th>6</th>\n",
       "      <td>i. an open place adjoining capuletâs garden...</td>\n",
       "      <td>0.9839</td>\n",
       "      <td>1</td>\n",
       "    </tr>\n",
       "    <tr>\n",
       "      <th>7</th>\n",
       "      <td>ii. capuletâs garden.\\r\\n\\r\\n enter romeo.\\...</td>\n",
       "      <td>0.9998</td>\n",
       "      <td>1</td>\n",
       "    </tr>\n",
       "    <tr>\n",
       "      <th>8</th>\n",
       "      <td>iii. friar lawrenceâs cell.\\r\\n\\r\\n enter f...</td>\n",
       "      <td>0.9993</td>\n",
       "      <td>1</td>\n",
       "    </tr>\n",
       "    <tr>\n",
       "      <th>9</th>\n",
       "      <td>iv. a street.\\r\\n\\r\\n enter benvolio and merc...</td>\n",
       "      <td>0.9995</td>\n",
       "      <td>1</td>\n",
       "    </tr>\n",
       "    <tr>\n",
       "      <th>10</th>\n",
       "      <td>v. capuletâs garden.\\r\\n\\r\\n enter juliet.\\...</td>\n",
       "      <td>0.9989</td>\n",
       "      <td>1</td>\n",
       "    </tr>\n",
       "    <tr>\n",
       "      <th>11</th>\n",
       "      <td>vi. friar lawrenceâs cell.\\r\\n\\r\\n enter fr...</td>\n",
       "      <td>0.9973</td>\n",
       "      <td>1</td>\n",
       "    </tr>\n",
       "    <tr>\n",
       "      <th>12</th>\n",
       "      <td>i. a public place.\\r\\n\\r\\n enter mercutio, be...</td>\n",
       "      <td>-0.9812</td>\n",
       "      <td>-1</td>\n",
       "    </tr>\n",
       "    <tr>\n",
       "      <th>13</th>\n",
       "      <td>ii. a room in capuletâs house.\\r\\n\\r\\n ente...</td>\n",
       "      <td>-0.9994</td>\n",
       "      <td>-1</td>\n",
       "    </tr>\n",
       "    <tr>\n",
       "      <th>14</th>\n",
       "      <td>iii. friar lawrenceâs cell.\\r\\n\\r\\n enter f...</td>\n",
       "      <td>0.9966</td>\n",
       "      <td>1</td>\n",
       "    </tr>\n",
       "    <tr>\n",
       "      <th>15</th>\n",
       "      <td>iv. a room in capuletâs house.\\r\\n\\r\\n ente...</td>\n",
       "      <td>0.9953</td>\n",
       "      <td>1</td>\n",
       "    </tr>\n",
       "    <tr>\n",
       "      <th>16</th>\n",
       "      <td>v. an open gallery to julietâs chamber, ove...</td>\n",
       "      <td>0.9916</td>\n",
       "      <td>1</td>\n",
       "    </tr>\n",
       "    <tr>\n",
       "      <th>17</th>\n",
       "      <td>i. friar lawrenceâs cell.\\r\\n\\r\\n enter fri...</td>\n",
       "      <td>0.9924</td>\n",
       "      <td>1</td>\n",
       "    </tr>\n",
       "    <tr>\n",
       "      <th>18</th>\n",
       "      <td>ii. hall in capuletâs house.\\r\\n\\r\\n enter ...</td>\n",
       "      <td>0.9893</td>\n",
       "      <td>1</td>\n",
       "    </tr>\n",
       "    <tr>\n",
       "      <th>19</th>\n",
       "      <td>iii. julietâs chamber.\\r\\n\\r\\n enter juliet...</td>\n",
       "      <td>-0.9972</td>\n",
       "      <td>-1</td>\n",
       "    </tr>\n",
       "    <tr>\n",
       "      <th>20</th>\n",
       "      <td>iv. hall in capuletâs house.\\r\\n\\r\\n enter ...</td>\n",
       "      <td>0.9338</td>\n",
       "      <td>1</td>\n",
       "    </tr>\n",
       "    <tr>\n",
       "      <th>21</th>\n",
       "      <td>v. julietâs chamber; juliet on the bed.\\r\\n...</td>\n",
       "      <td>-0.9992</td>\n",
       "      <td>-1</td>\n",
       "    </tr>\n",
       "    <tr>\n",
       "      <th>22</th>\n",
       "      <td>i. mantua. a street.\\r\\n\\r\\n enter romeo.\\r\\n...</td>\n",
       "      <td>-0.9975</td>\n",
       "      <td>-1</td>\n",
       "    </tr>\n",
       "    <tr>\n",
       "      <th>23</th>\n",
       "      <td>ii. friar lawrenceâs cell.\\r\\n\\r\\n enter fr...</td>\n",
       "      <td>-0.9791</td>\n",
       "      <td>-1</td>\n",
       "    </tr>\n",
       "    <tr>\n",
       "      <th>24</th>\n",
       "      <td>iii. a churchyard; in it a monument belonging...</td>\n",
       "      <td>-0.9998</td>\n",
       "      <td>-1</td>\n",
       "    </tr>\n",
       "  </tbody>\n",
       "</table>\n",
       "</div>"
      ],
      "text/plain": [
       "                                               scenes  VaderSentiment  \\\n",
       "0   . during the greater part of the play in veron...         -0.4310   \n",
       "1    i. a public place.\\r\\n\\r\\n enter sampson and ...          0.9552   \n",
       "2    ii. a street.\\r\\n\\r\\n enter capulet, paris an...          0.9992   \n",
       "3    iii. room in capuletâs house.\\r\\n\\r\\n enter...          0.9993   \n",
       "4    iv. a street.\\r\\n\\r\\n enter romeo, mercutio, ...          0.9959   \n",
       "5    v. a hall in capuletâs house.\\r\\n\\r\\n music...          0.9996   \n",
       "6    i. an open place adjoining capuletâs garden...          0.9839   \n",
       "7    ii. capuletâs garden.\\r\\n\\r\\n enter romeo.\\...          0.9998   \n",
       "8    iii. friar lawrenceâs cell.\\r\\n\\r\\n enter f...          0.9993   \n",
       "9    iv. a street.\\r\\n\\r\\n enter benvolio and merc...          0.9995   \n",
       "10   v. capuletâs garden.\\r\\n\\r\\n enter juliet.\\...          0.9989   \n",
       "11   vi. friar lawrenceâs cell.\\r\\n\\r\\n enter fr...          0.9973   \n",
       "12   i. a public place.\\r\\n\\r\\n enter mercutio, be...         -0.9812   \n",
       "13   ii. a room in capuletâs house.\\r\\n\\r\\n ente...         -0.9994   \n",
       "14   iii. friar lawrenceâs cell.\\r\\n\\r\\n enter f...          0.9966   \n",
       "15   iv. a room in capuletâs house.\\r\\n\\r\\n ente...          0.9953   \n",
       "16   v. an open gallery to julietâs chamber, ove...          0.9916   \n",
       "17   i. friar lawrenceâs cell.\\r\\n\\r\\n enter fri...          0.9924   \n",
       "18   ii. hall in capuletâs house.\\r\\n\\r\\n enter ...          0.9893   \n",
       "19   iii. julietâs chamber.\\r\\n\\r\\n enter juliet...         -0.9972   \n",
       "20   iv. hall in capuletâs house.\\r\\n\\r\\n enter ...          0.9338   \n",
       "21   v. julietâs chamber; juliet on the bed.\\r\\n...         -0.9992   \n",
       "22   i. mantua. a street.\\r\\n\\r\\n enter romeo.\\r\\n...         -0.9975   \n",
       "23   ii. friar lawrenceâs cell.\\r\\n\\r\\n enter fr...         -0.9791   \n",
       "24   iii. a churchyard; in it a monument belonging...         -0.9998   \n",
       "\n",
       "    Polarity  \n",
       "0         -1  \n",
       "1          1  \n",
       "2          1  \n",
       "3          1  \n",
       "4          1  \n",
       "5          1  \n",
       "6          1  \n",
       "7          1  \n",
       "8          1  \n",
       "9          1  \n",
       "10         1  \n",
       "11         1  \n",
       "12        -1  \n",
       "13        -1  \n",
       "14         1  \n",
       "15         1  \n",
       "16         1  \n",
       "17         1  \n",
       "18         1  \n",
       "19        -1  \n",
       "20         1  \n",
       "21        -1  \n",
       "22        -1  \n",
       "23        -1  \n",
       "24        -1  "
      ]
     },
     "execution_count": 164,
     "metadata": {},
     "output_type": "execute_result"
    }
   ],
   "source": [
    "dfall"
   ]
  },
  {
   "cell_type": "code",
   "execution_count": null,
   "id": "37329a87-0cb5-4398-a05c-5c183dfbd7ef",
   "metadata": {},
   "outputs": [],
   "source": []
  },
  {
   "cell_type": "markdown",
   "id": "aec4d504-bf19-469e-85b0-12f0636047e7",
   "metadata": {},
   "source": [
    "# Make this a markdown cell for your comments:\n",
    "\n",
    "Hi Professor on this exercise I was not sure why the polarity would matter, since we already have the sentiment analize per sentase.\n",
    "\n",
    "Analizing the plot we can see that the number of positive and negative worlds are the same, but the Posality bar (Orange) has different format because it is not breaking into small number."
   ]
  },
  {
   "cell_type": "markdown",
   "id": "8eac64f2-a6e1-4e57-96cf-f0102fe86d69",
   "metadata": {},
   "source": [
    "Next, we are going to use a new lexicon to assess positive and negative word sentiment, the opinion_lexicon (https://www.nltk.org/api/nltk.corpus.reader.opinion_lexicon.html)\n",
    "\n",
    "Execute the following cell to make a set of positive words and a set of negative words."
   ]
  },
  {
   "cell_type": "code",
   "execution_count": 165,
   "id": "06f6d8f6-85f2-4925-a45c-748901540247",
   "metadata": {},
   "outputs": [
    {
     "name": "stderr",
     "output_type": "stream",
     "text": [
      "[nltk_data] Downloading package opinion_lexicon to\n",
      "[nltk_data]     /home/jupyter/nltk_data...\n",
      "[nltk_data]   Package opinion_lexicon is already up-to-date!\n"
     ]
    },
    {
     "data": {
      "text/plain": [
       "True"
      ]
     },
     "execution_count": 165,
     "metadata": {},
     "output_type": "execute_result"
    }
   ],
   "source": [
    "nltk.download('opinion_lexicon')"
   ]
  },
  {
   "cell_type": "code",
   "execution_count": 166,
   "id": "36e82e1f-82a8-4ef5-893b-280c6216539a",
   "metadata": {},
   "outputs": [],
   "source": [
    "positive_words = set(opinion_lexicon.positive())\n",
    "negative_words = set(opinion_lexicon.negative())"
   ]
  },
  {
   "cell_type": "markdown",
   "id": "2c790e85-47ff-4dc9-bb73-bb3e6ee71ba5",
   "metadata": {},
   "source": [
    "The following cell is an example of checking whether a word is positive or negative according to this opinion lexicon.  Try it out with a couple words."
   ]
  },
  {
   "cell_type": "code",
   "execution_count": 167,
   "id": "3576c265-3caa-4f1c-8877-be531dbb5af0",
   "metadata": {},
   "outputs": [
    {
     "name": "stdout",
     "output_type": "stream",
     "text": [
      "love is positive\n"
     ]
    }
   ],
   "source": [
    "testword = 'love'\n",
    "if testword in positive_words:\n",
    "    print(testword + ' is positive')\n",
    "elif testword in negative_words:\n",
    "    print(testword + ' is negative')\n",
    "else:\n",
    "    print(testword + ' is neither positive nor negative')"
   ]
  },
  {
   "cell_type": "markdown",
   "id": "0c91a97d-32b6-4094-b6bc-0912adab3241",
   "metadata": {},
   "source": [
    "Third plot:\n",
    "\n",
    "* Write a for loop that iterate over the scenes in Romeo and Juliet (`r_j_scenes`), and for each scene:\n",
    "  * Make a list of the scene's words by tokenizing the string\n",
    "  * Calculate the total scene sentiment score by **adding 1 for each positive word and substracting 1 for each negative word, where the positive/negative word is assessed by its presence in the positive_words and negative_words sets.**\n",
    "    * This total is the difference between the positive and negative word counts\n",
    "* Make a bar plot that has the scene number on the horizontal axis and the sentiment scores as the bar heights.\n",
    "* Does this change the plot relative to the previous plots?"
   ]
  },
  {
   "cell_type": "code",
   "execution_count": 168,
   "id": "fa14dffe-baf5-42f4-aedc-cc6eea2527d4",
   "metadata": {},
   "outputs": [],
   "source": [
    "words2 = []\n",
    "for s in r_j_scenes:\n",
    "    for w in word_tokenize(s):\n",
    "        words2.append(w)"
   ]
  },
  {
   "cell_type": "code",
   "execution_count": 169,
   "id": "56bfa54a-5482-4a4f-be60-452c49568bd8",
   "metadata": {},
   "outputs": [],
   "source": [
    "#Removing Stoping words\n",
    "wordsNoStop3 = []\n",
    "for i in words2:\n",
    "    if i not in myStopWords:\n",
    "        wordsNoStop3.append(i)"
   ]
  },
  {
   "cell_type": "code",
   "execution_count": 170,
   "id": "d3c0d9f2-d0ab-4e4e-b058-ec993021301c",
   "metadata": {},
   "outputs": [],
   "source": [
    "sid = vader.SentimentIntensityAnalyzer()\n",
    "pos_word_list=[]\n",
    "neu_word_list=[]\n",
    "neg_word_list=[]\n",
    "\n",
    "for word in wordsNoStop3:\n",
    "    if (sid.polarity_scores(word)['compound']) >= 0.1:\n",
    "        pos_word_list.append(word)\n",
    "    elif (sid.polarity_scores(word)['compound']) <= -0.1:\n",
    "        neg_word_list.append(word)\n",
    "    else:\n",
    "        neu_word_list.append(word) "
   ]
  },
  {
   "cell_type": "code",
   "execution_count": 171,
   "id": "7f8a0b31-55b2-4734-a5d2-5a4a6c1ec0af",
   "metadata": {},
   "outputs": [],
   "source": [
    "dfpos = pd.DataFrame({'words':pos_word_list, 'Polarity':1})\n",
    "dfneg = pd.DataFrame({'words':neg_word_list, 'Polarity':-1})"
   ]
  },
  {
   "cell_type": "code",
   "execution_count": 172,
   "id": "b94bd199-871c-44e6-9142-908b0a17257d",
   "metadata": {},
   "outputs": [],
   "source": [
    "df = pd.concat([dfpos,dfneg], ignore_index=True)"
   ]
  },
  {
   "cell_type": "code",
   "execution_count": 173,
   "id": "31c6292d-a43c-4ddd-bffd-c9a50ea3b2c6",
   "metadata": {},
   "outputs": [],
   "source": [
    "def getSentiment(scenes):\n",
    "    return sid.polarity_scores(scenes)['compound']\n"
   ]
  },
  {
   "cell_type": "code",
   "execution_count": 174,
   "id": "674454f2-4866-4df3-9182-0906f7f13b45",
   "metadata": {},
   "outputs": [],
   "source": [
    "df['VaderSentiment'] = [getSentiment(scenes) for scenes in df['words']]"
   ]
  },
  {
   "cell_type": "code",
   "execution_count": null,
   "id": "6288b4af-9461-4ed1-bee2-22393c0ab68c",
   "metadata": {},
   "outputs": [],
   "source": [
    "\n"
   ]
  },
  {
   "cell_type": "code",
   "execution_count": 175,
   "id": "fb5f037a-61cb-406f-8e53-22628c7a4cd1",
   "metadata": {},
   "outputs": [
    {
     "data": {
      "text/plain": [
       "<AxesSubplot:title={'center':'Scenes'}, xlabel='Scenes Number'>"
      ]
     },
     "execution_count": 175,
     "metadata": {},
     "output_type": "execute_result"
    },
    {
     "data": {
      "image/png": "[encoded data removed]",
      "text/plain": [
       "<Figure size 1728x432 with 1 Axes>"
      ]
     },
     "metadata": {
      "needs_background": "light"
     },
     "output_type": "display_data"
    }
   ],
   "source": [
    "df.plot(kind='bar',xlabel='Scenes Number', title='Scenes', figsize=(24,6))"
   ]
  },
  {
   "cell_type": "markdown",
   "id": "15466404-58ca-494b-ae59-8353b9aa8c26",
   "metadata": {},
   "source": [
    "# Make this a markdown cell for your comments:\n",
    "\n",
    "Professor. I may have gone in the wrong direction of this tasks. I believe my mistake was break the strings in words."
   ]
  },
  {
   "cell_type": "markdown",
   "id": "b068e0e3-ed19-464f-a6e8-4fa265b49bdb",
   "metadata": {},
   "source": [
    "Fourth plot:\n",
    "\n",
    "* Take the entire string of Romeo and Juliet (`r_j_string`) and tokenize it into words.\n",
    "* Calculate a total sentiment score for each consecutive group of 500 words.\n",
    "  * Do this as immediately above by adding 1 for each positive word and substracting 1 for each negative word, where the positive/negative word is assessed by its presence in the positive_words and negative_words sets.\n",
    "* Make a bar plot that has the group number (0,1,2,3,...) on the horizontal axis and the sentiment scores as the bar heights.\n",
    "* Does this change the plot relative to the previous plots?"
   ]
  },
  {
   "cell_type": "code",
   "execution_count": 176,
   "id": "45a18a05-f490-4956-976d-50a608588211",
   "metadata": {},
   "outputs": [],
   "source": [
    "# Code:\n",
    "words4 = word_tokenize(r_j_string)\n",
    "#Removing Stoping words\n",
    "wordsNoStop4 = []\n",
    "for i in words4:\n",
    "    if i not in myStopWords:\n",
    "        wordsNoStop4.append(i)\n",
    "        \n",
    "        \n",
    "sid = vader.SentimentIntensityAnalyzer()\n",
    "pos_word_list=[]\n",
    "neu_word_list=[]\n",
    "neg_word_list=[]\n",
    "\n",
    "for word in wordsNoStop4:\n",
    "    if (sid.polarity_scores(word)['compound']) >= 0.1:\n",
    "        pos_word_list.append(word)\n",
    "    elif (sid.polarity_scores(word)['compound']) <= -0.1:\n",
    "        neg_word_list.append(word)\n",
    "    else:\n",
    "        neu_word_list.append(word) "
   ]
  },
  {
   "cell_type": "code",
   "execution_count": 177,
   "id": "a929fa96-34e5-40c5-9483-efcb0abd864a",
   "metadata": {},
   "outputs": [],
   "source": [
    "dfpos4 = pd.DataFrame({'words':pos_word_list, 'Polarity':1})\n",
    "dfneg4 = pd.DataFrame({'words':neg_word_list, 'Polarity':-1})"
   ]
  },
  {
   "cell_type": "code",
   "execution_count": 178,
   "id": "c19afd67-873b-4a1b-bf1d-8dd3b8c9535c",
   "metadata": {},
   "outputs": [],
   "source": [
    "df4 = pd.concat([dfpos4,dfneg4], ignore_index=True)"
   ]
  },
  {
   "cell_type": "code",
   "execution_count": 179,
   "id": "19518534-38a6-48df-87b8-4f609a39eea8",
   "metadata": {},
   "outputs": [],
   "source": [
    "def getSentiment(scenes):\n",
    "    return sid.polarity_scores(scenes)['compound']"
   ]
  },
  {
   "cell_type": "code",
   "execution_count": 180,
   "id": "9357a677-f4e7-461c-9618-662c24276f87",
   "metadata": {},
   "outputs": [],
   "source": [
    "df4['VaderSentiment'] = [getSentiment(scenes) for scenes in df4['words']]\n"
   ]
  },
  {
   "cell_type": "code",
   "execution_count": 181,
   "id": "b28afaeb-c9a5-45f8-a8b5-8151cddae78a",
   "metadata": {},
   "outputs": [
    {
     "data": {
      "text/plain": [
       "<AxesSubplot:title={'center':'Scenes'}, xlabel='words'>"
      ]
     },
     "execution_count": 181,
     "metadata": {},
     "output_type": "execute_result"
    },
    {
     "data": {
      "image/png": "[encoded data removed]",
      "text/plain": [
       "<Figure size 1728x432 with 1 Axes>"
      ]
     },
     "metadata": {
      "needs_background": "light"
     },
     "output_type": "display_data"
    }
   ],
   "source": [
    "df4.plot(kind='bar',xlabel='words', title='Scenes', figsize=(24,6))"
   ]
  },
  {
   "cell_type": "code",
   "execution_count": null,
   "id": "7f878b38-d1b2-464a-b97d-5a17d8e46a8a",
   "metadata": {},
   "outputs": [],
   "source": []
  }
 ],
 "metadata": {
  "kernelspec": {
   "display_name": "Python (Local)",
   "language": "python",
   "name": "local-base"
  },
  "language_info": {
   "codemirror_mode": {
    "name": "ipython",
    "version": 3
   },
   "file_extension": ".py",
   "mimetype": "text/x-python",
   "name": "python",
   "nbconvert_exporter": "python",
   "pygments_lexer": "ipython3",
   "version": "3.7.12"
  }
 },
 "nbformat": 4,
 "nbformat_minor": 5
}
