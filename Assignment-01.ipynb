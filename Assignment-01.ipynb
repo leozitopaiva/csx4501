{
 "cells": [
  {
   "cell_type": "markdown",
   "id": "53a75286-8e9a-4574-a9cd-deadf632e1d1",
   "metadata": {},
   "source": [
    "# Instructions"
   ]
  },
  {
   "cell_type": "markdown",
   "id": "64e3cf6e-cf51-4531-baa3-c576b50d555b",
   "metadata": {},
   "source": [
    "The following assignment is intended to help you gain familiarity with the some software infrastructure and to help you practice (potentially completely new) Python skills.\n",
    "\n",
    "It's not intended to make you tear your hair out in consternation!  If you want hints or guidance on the basics, please post in Slack\n",
    "\n",
    "1. Join our Slack channel\n",
    "    * [click here if you need the link to join](https://join.slack.com/t/slack-rwi6743/shared_invite/zt-1batoi4rr-fTrKMVOAWFYqTOYm8bOkEQ)\n",
    "1. Make a new repository on GitHub to store assignments from this class.\n",
    "    * Go to GitHub (https://github.com) and log in. \n",
    "        * Create a GitHub account if you need one \n",
    "    * Click on \"Repositories\" and \"New\" \n",
    "    * Name your repo \"csx4501\", make it public, and select the \"Add a README file\" option\n",
    "    * Clone the new repo to your computer\n",
    "        * e.g. by using the GitHub Desktop application (https://desktop.github.com/)\n",
    "1. Copy this assignment file into the folder you just cloned.\n",
    "1. Carry out the subsequent exercises (below) in that file and save it.\n",
    "    * You will need to have Python and Jupyter installed on your computer.\n",
    "    * Contact me if you're having difficulties.\n",
    "1. Customize your repo's README file\n",
    "    * Go to the folder on your computer with the cloned files\n",
    "    * Open the README in a text editor\n",
    "    * Add a profile of yourself, a description of the course, project ideas, and your objectives for the class.\n",
    "    * Style your text\n",
    "        * Here's one [markdown guide](https://guides.github.com/features/mastering-markdown) for guidance\n",
    "1. Push your completed assignment and README files to your GitHub repository\n",
    "    1. In GitHub Desktop app, make sure that the \"Current Repository\" shown at the top is your new csx4501 repository\n",
    "    1. The changed files should show up on the left.\n",
    "    1. Add a commit summary and description on the bottom-left, then click the blue Commit button.\n",
    "    1. In the main window, click the blue button \"Push origin\" to push your changed files to GitHub.\n",
    "    1. After you push successfully, verify that your files are in your GitHub repository by visiting the website for your repository\n",
    "1. Finish the assignment by submitting a link to your GitHub repository on the Canvas site"
   ]
  },
  {
   "cell_type": "markdown",
   "id": "49b9267a-d050-4671-a643-1103fd47c690",
   "metadata": {},
   "source": [
    "# Python exercises"
   ]
  },
  {
   "cell_type": "code",
   "execution_count": 12,
   "id": "31728919-ffb3-44c6-ba97-d00489c96274",
   "metadata": {},
   "outputs": [],
   "source": [
    "# Do at least three mathematical calculations with `+`, `-`, `*`, `/`, and/or `%`.\n",
    "import math\n",
    "x=5\n",
    "y=10"
   ]
  },
  {
   "cell_type": "code",
   "execution_count": 14,
   "id": "cda9a808-6d0e-4099-86c7-2f53a12d413b",
   "metadata": {},
   "outputs": [
    {
     "data": {
      "text/plain": [
       "25"
      ]
     },
     "execution_count": 14,
     "metadata": {},
     "output_type": "execute_result"
    }
   ],
   "source": [
    "#1\n",
    "x*x"
   ]
  },
  {
   "cell_type": "code",
   "execution_count": 17,
   "id": "8275cd9c-3347-46ec-bc0c-b8b86f6fc963",
   "metadata": {},
   "outputs": [
    {
     "data": {
      "text/plain": [
       "2.0"
      ]
     },
     "execution_count": 17,
     "metadata": {},
     "output_type": "execute_result"
    }
   ],
   "source": [
    "#2\n",
    "y/x"
   ]
  },
  {
   "cell_type": "code",
   "execution_count": 19,
   "id": "02686064-6a6e-4067-b248-e690f6d74303",
   "metadata": {},
   "outputs": [
    {
     "data": {
      "text/plain": [
       "20"
      ]
     },
     "execution_count": 19,
     "metadata": {},
     "output_type": "execute_result"
    }
   ],
   "source": [
    "#3\n",
    "y+y"
   ]
  },
  {
   "cell_type": "code",
   "execution_count": 20,
   "id": "8fe34a6d-a4f7-4111-a95a-257a7de52103",
   "metadata": {},
   "outputs": [],
   "source": [
    "# Assign a number to the variable `a`,\n",
    "# do a mathematical calculation to determine whether a is odd or even,\n",
    "# and print out either \"a is even\" or \"a is odd\" as appropriate.\n",
    "\n",
    "a=37"
   ]
  },
  {
   "cell_type": "code",
   "execution_count": 21,
   "id": "3b3e200d-7440-4d15-b46f-7ed80310e2f0",
   "metadata": {},
   "outputs": [
    {
     "name": "stdout",
     "output_type": "stream",
     "text": [
      "37 is Odd\n"
     ]
    }
   ],
   "source": [
    "# Python program to check if the input number is odd or even.\n",
    "# A number is even if division by 2 gives a remainder of 0.\n",
    "# If the remainder is 1, it is an odd number.\n",
    "\n",
    "num = a\n",
    "if (num % 2) == 0:\n",
    "   print(\"{0} is Even\".format(num))\n",
    "else:\n",
    "   print(\"{0} is Odd\".format(num))"
   ]
  },
  {
   "cell_type": "code",
   "execution_count": 25,
   "id": "a70653e6-0a18-4155-8b4b-c6835f72e4e6",
   "metadata": {},
   "outputs": [],
   "source": [
    "# Using the given list,\n",
    "# 1. print the list\n",
    "# 2. print the 0th element \n",
    "# 3. print the 5th element \n",
    "# 4. print the last element \n",
    "# 5. print the length\n",
    "#        look at https://python.readthedocs.io/en/stable/library/functions.html\n",
    "#        specifically `len()`\n",
    "# 6. print all the elements\n",
    "# 7. print all the elements less than 8\n",
    "# 8. print out the elements in reverse order\n",
    "#        look at https://python-reference.readthedocs.io/en/latest/docs/list/\n",
    "#        specifically `reverse`\n",
    "# 9. append the next fibonacci number and print out the new list\n",
    "#        look again at the docs, this time for `append`\n",
    "#        [elements in the fibonacci sequence are equal to the sum of the previous two elements]\n",
    "\n",
    "a = [1, 1, 2, 3, 5, 8, 13, 21, 34, 55, 89]\n",
    "\n"
   ]
  },
  {
   "cell_type": "code",
   "execution_count": 60,
   "id": "88492edb-bbb0-4cb3-924e-bcf040e8a577",
   "metadata": {},
   "outputs": [
    {
     "name": "stdout",
     "output_type": "stream",
     "text": [
      "print the list =  [89, 55, 34, 21, 13, 8, 5, 3, 2, 1, 1]\n",
      "print the 0th element =  89\n",
      "print the 5th element =  8\n",
      "print the last element =  1\n",
      "printing the lenght 11\n",
      "print all the elements =  89 55 34 21 13 8 5 3 2 1 1\n",
      "print all the elements less than 8 =  89 55 34 21 13 8 5 3 1 1\n",
      "print out the elements in reverse order [1, 1, 2, 3, 5, 8, 13, 21, 34, 55, 89]\n",
      "the next fibonacci number and print out the new list:\n",
      "[0, 1, 1, 2, 3, 5, 8, 13, 21, 34, 55, 89, 144]\n"
     ]
    }
   ],
   "source": [
    "# 1. print the list\n",
    "print (\"print the list = \", a)\n",
    "\n",
    "# 2. print the 0th element \n",
    "print (\"print the 0th element = \", a[0])\n",
    "# 3. print the 5th element \n",
    "print (\"print the 5th element = \", a[5])\n",
    "# 4. print the last element \n",
    "print (\"print the last element = \", a[-1])\n",
    "# 5. print the length\n",
    "#        look at https://python.readthedocs.io/en/stable/library/functions.html\n",
    "#        specifically `len()`\n",
    "print (\"printing the lenght\", len(a))\n",
    "# 6. print all the elements\n",
    "print (\"print all the elements = \", a[0], a[1], a[2], a[3], a[4], a[5], a[6], a[7], a[8], a[9], a[10])\n",
    "# 7. print all the elements less than 8\n",
    "print (\"print all the elements less than 8 = \", a[0], a[1], a[2], a[3], a[4], a[5], a[6], a[7], a[9], a[10])\n",
    "# 8. print out the elements in reverse order\n",
    "#        look at https://python-reference.readthedocs.io/en/latest/docs/list/\n",
    "#        specifically `reverse`\n",
    "rev=a\n",
    "rev.reverse()\n",
    "print (\"print out the elements in reverse order\", (rev))\n",
    "# 9. append the next fibonacci number and print out the new list\n",
    "#        look again at the docs, this time for `append`\n",
    "#        [elements in the fibonacci sequence are equal to the sum of the previous two elements]\n",
    "def fibonacci_nums(n):\n",
    "  if n <= 0:\n",
    "    return [0]\n",
    "  sequence = [0, 1]\n",
    "  while len(sequence) <= n:\n",
    "    next_value = sequence[len(sequence) - 1] + sequence[len(sequence) - 2]\n",
    "    sequence.append(next_value)\n",
    "  return sequence\n",
    "print(\"the next fibonacci number and print out the new list:\")\n",
    "print(fibonacci_nums(12))"
   ]
  },
  {
   "cell_type": "code",
   "execution_count": 67,
   "id": "22203dab-ac71-45fa-9922-c649c7810488",
   "metadata": {},
   "outputs": [
    {
     "data": {
      "text/plain": [
       "{1, 2, 3, 5, 8, 13}"
      ]
     },
     "execution_count": 67,
     "metadata": {},
     "output_type": "execute_result"
    }
   ],
   "source": [
    "# Using the below lists\n",
    "# 1. print out all the elements that are contained in both lists\n",
    "# 2. print out the elements that are contained in either list a or list b but not both\n",
    "\n",
    "a = [1, 1, 2, 3, 5, 8, 13, 21, 34, 55, 89]\n",
    "b = [1, 2, 3, 4, 5, 6, 7, 8, 9, 10, 11, 12, 13]\n",
    "\n",
    "set(a).intersection(b)"
   ]
  },
  {
   "cell_type": "code",
   "execution_count": 73,
   "id": "7936fc98-ac9e-4fb9-a3c7-aae54cdf597a",
   "metadata": {},
   "outputs": [
    {
     "name": "stdout",
     "output_type": "stream",
     "text": [
      "# Printing out all the elements that are contained in both lists\n"
     ]
    },
    {
     "data": {
      "text/plain": [
       "{1, 2, 3, 5, 8, 13}"
      ]
     },
     "execution_count": 73,
     "metadata": {},
     "output_type": "execute_result"
    }
   ],
   "source": [
    "print (\"# Printing out all the elements that are contained in both lists\")\n",
    "set(a).intersection(b)"
   ]
  },
  {
   "cell_type": "code",
   "execution_count": 74,
   "id": "75af7ecf-5494-4e4f-9bcc-d6f6433546f7",
   "metadata": {},
   "outputs": [
    {
     "name": "stdout",
     "output_type": "stream",
     "text": [
      "# Printing out the elements that are contained in either list a or list b but not both\n"
     ]
    },
    {
     "data": {
      "text/plain": [
       "{21, 34, 55, 89}"
      ]
     },
     "execution_count": 74,
     "metadata": {},
     "output_type": "execute_result"
    }
   ],
   "source": [
    "print (\"# Printing out the elements that are contained in either list a or list b but not both\")\n",
    "set(a).difference(b)"
   ]
  },
  {
   "cell_type": "code",
   "execution_count": 82,
   "id": "ad4f7b2a-5cc1-4a65-a5b5-1f2994f42fab",
   "metadata": {},
   "outputs": [
    {
     "name": "stdout",
     "output_type": "stream",
     "text": [
      "8\n"
     ]
    }
   ],
   "source": [
    "# Using the below dictionary\n",
    "# add a new item to the dictionary,\n",
    "# print an element from the dictionary,\n",
    "# print out the message \"<key> has <value> letters\" for every <key>/<value> pair\n",
    "\n",
    "a = {'January': 7, 'February': 8, 'March': 5, 'April': 5}\n",
    "a = {'January': 7, 'February': 8, 'March': 5, 'April': 5, 'May': 8}\n",
    "\n",
    "print (a['May'])\n"
   ]
  },
  {
   "cell_type": "code",
   "execution_count": 83,
   "id": "3005621c-e50c-436a-a033-9aadae71eafb",
   "metadata": {},
   "outputs": [
    {
     "name": "stdout",
     "output_type": "stream",
     "text": [
      "The original list is : [1, 5, 6, 7, 4, 8, 0, 2, 6, 2]\n",
      "The first and last element of list are : [1, 2]\n"
     ]
    }
   ],
   "source": [
    "# Write a function that takes as input a list of numbers \n",
    "# and prints a new list of only the first and last elements of the given list.\n",
    "# Execute it with several examples.\n",
    "\n",
    "# initializing list \n",
    "test_list = [1, 5, 6, 7, 4, 8, 0, 2, 6, 2]\n",
    "  \n",
    "# printing original list \n",
    "print (\"The original list is : \" +  str(test_list))\n",
    "  \n",
    "# using list indexing\n",
    "# to get first and last element of list\n",
    "res = [ test_list[0], test_list[-1] ] \n",
    "  \n",
    "# printing result\n",
    "print (\"The first and last element of list are : \" +  str(res))"
   ]
  },
  {
   "cell_type": "code",
   "execution_count": 84,
   "id": "4a607e0a-2e1b-4e44-af40-4571f2e0b4f0",
   "metadata": {},
   "outputs": [
    {
     "name": "stdout",
     "output_type": "stream",
     "text": [
      "Yes\n"
     ]
    }
   ],
   "source": [
    "# Write a function that takes a string as input\n",
    "# and prints out \"Yes\" or \"No\" depending on whether the\n",
    "# string is a palindrome (spelled the same forwards and backwards).  \n",
    "# Execute it with several examples.\n",
    "\n",
    "# function to check string is\n",
    "# palindrome or not\n",
    "def isPalindrome(str):\n",
    " \n",
    "    # Run loop from 0 to len/2\n",
    "    for i in range(0, int(len(str)/2)):\n",
    "        if str[i] != str[len(str)-i-1]:\n",
    "            return False\n",
    "    return True\n",
    " \n",
    "# main function\n",
    "s = \"malayalam\"\n",
    "ans = isPalindrome(s)\n",
    " \n",
    "if (ans):\n",
    "    print(\"Yes\")\n",
    "else:\n",
    "    print(\"No\")"
   ]
  },
  {
   "cell_type": "markdown",
   "id": "86f9df9a-822a-42be-a778-541173a4fefe",
   "metadata": {},
   "source": [
    "Check out the Python documentation for `random` and `string`:\n",
    "* https://python.readthedocs.io/en/stable/library/random.html\n",
    "* https://python.readthedocs.io/en/stable/library/string.html\n",
    "\n",
    "It's overkill for what you need here, but if you search for the specific attributes and methods mentioned below, you will be able to find useful information."
   ]
  },
  {
   "cell_type": "code",
   "execution_count": 85,
   "id": "c221f184-1e0b-491f-97a8-f9fb30458926",
   "metadata": {},
   "outputs": [
    {
     "name": "stdout",
     "output_type": "stream",
     "text": [
      "Random number with seed 0-1\n",
      "1\n",
      "1\n",
      "1\n"
     ]
    }
   ],
   "source": [
    "# Write a function that sets a random seed and prints three random numbers between 0 and 1\n",
    "# You may find it useful to look up:\n",
    "# random.seed and random.random\n",
    "\n",
    "import random\n",
    "\n",
    "print('Random number with seed 0-1')\n",
    "for i in range(3):\n",
    "    # Random number with seed 0-1\n",
    "    random.seed(30)\n",
    "    print(random.randint(0, 1))"
   ]
  },
  {
   "cell_type": "code",
   "execution_count": 87,
   "id": "fc7c0629-729b-4c7e-9edb-266fbacb3be7",
   "metadata": {},
   "outputs": [
    {
     "name": "stdout",
     "output_type": "stream",
     "text": [
      "Generate a random alphabetical character:\n",
      "a\n",
      "\n",
      "Generate a random alphabetical string:\n",
      "pbekMHzPwIezbpZKR\n",
      "\n",
      "Generate a random alphabetical string of a fixed length:\n",
      "rWBKgRrOJh\n"
     ]
    }
   ],
   "source": [
    "# Write a function that takes an integer as input\n",
    "# and prints a random alphabetical character, alphabetical string,\n",
    "# and alphabetical string of a fixed length equal to the input integer.\n",
    "# You may find it useful to look up:\n",
    "# string.ascii_letters, random.randint, random.choice\n",
    "\n",
    "import random\n",
    "import string\n",
    "print(\"Generate a random alphabetical character:\")\n",
    "print(random.choice(string.ascii_letters))\n",
    "print(\"\\nGenerate a random alphabetical string:\")\n",
    "max_length = 25\n",
    "str1 = \"\"\n",
    "for i in range(random.randint(1, max_length)):\n",
    "    str1 += random.choice(string.ascii_letters)\n",
    "print(str1)\n",
    "print(\"\\nGenerate a random alphabetical string of a fixed length:\")\n",
    "str1 = \"\"\n",
    "for i in range(10):\n",
    "    str1 += random.choice(string.ascii_letters)\n",
    "print(str1)"
   ]
  },
  {
   "cell_type": "code",
   "execution_count": 93,
   "id": "c738c817-00aa-4597-b5c8-f38af11275cb",
   "metadata": {},
   "outputs": [
    {
     "name": "stdout",
     "output_type": "stream",
     "text": [
      "['computer', 'program', 'experience', 'respect', 'performance', 'measure', 'performance', 'measured', 'improves', 'experience']\n"
     ]
    }
   ],
   "source": [
    "# Print the words in the following sentence that are longer than 6 characters\n",
    "# Note: you may find it useful to look at \n",
    "# `split` in https://python-reference.readthedocs.io/en/latest/docs/str/\n",
    "\n",
    "ml_sentence = '''\n",
    "A computer program is said to learn \n",
    "from experience E with respect to some class of tasks T \n",
    "and performance measure P if its performance at tasks in T \n",
    "as measured by P improves with experience E.\n",
    "'''\n",
    "\n",
    "import re\n",
    "text = ml_sentence\n",
    "print(re.findall(r\"\\b\\w{6,}\\b\", text))\n"
   ]
  },
  {
   "cell_type": "code",
   "execution_count": 101,
   "id": "25e1bc45-95db-4e39-8abf-614660bc17ba",
   "metadata": {},
   "outputs": [
    {
     "name": "stdout",
     "output_type": "stream",
     "text": [
      "['d', 'r', 'n', 'r', 'i']\n"
     ]
    }
   ],
   "source": [
    "# Print 5 random words from following sentence:\n",
    "\n",
    "ml_sentence = '''\n",
    "A computer program is said to learn \n",
    "from experience E with respect to some class of tasks T \n",
    "and performance measure P if its performance at tasks in T \n",
    "as measured by P improves with experience E.\n",
    "'''\n",
    "\n",
    "# import required module\n",
    "import random\n",
    "  \n",
    "# print random word\n",
    "print(random.choices(ml_sentence, k=5))\n"
   ]
  },
  {
   "cell_type": "code",
   "execution_count": null,
   "id": "8ef4c496-014c-4459-941d-afb431501191",
   "metadata": {},
   "outputs": [],
   "source": [
    "# Using the above 'ml_sentence', make a dictionary with\n",
    "# the dictionary keys equal to the unique words in the sentence,\n",
    "# and the value for each key equal to the number of times each word occurs.\n",
    "# e.g. 'hello my hello friend' would lead to the dictionary {'hello': 2, 'my': 1, 'friend': 1}\n",
    "\n"
   ]
  },
  {
   "cell_type": "code",
   "execution_count": null,
   "id": "33eaaa90-e336-4367-b072-58a8a71dada8",
   "metadata": {},
   "outputs": [],
   "source": [
    "# Time to roll up our sleeves and make a similar dictionary for all the words in Macbeth.\n",
    "# I am going to do the first part (and you can execute this cell as is to see what happens),\n",
    "# you just need to adapt your code from above to make the dictionary at the end\n",
    "\n",
    "# Here we import libraries that can grab data from the web (via requests) and form a list of words using NLTK.\n",
    "import requests\n",
    "from nltk.tokenize import word_tokenize\n",
    "\n",
    "# Here we get the text of Macbeth from Project Gutenberg (https://www.gutenberg.org/) \n",
    "# and \"tokenize\" the text (split it up into words)\n",
    "target_url = \"https://www.gutenberg.org/files/1533/1533-0.txt\"\n",
    "response = requests.get(target_url)\n",
    "text_string = response.text\n",
    "text_string = text_string.lower()\n",
    "text_words = word_tokenize(text_string)\n",
    "\n",
    "# Here we print the first 10 words\n",
    "print(text_words[0:10])\n",
    "\n",
    "# Put in your code here to make the dictionary with the <word> : <word counts> pairs\n",
    "\n",
    "\n",
    "# Check out some entries in the dictionary (such as 'Macbeth', 'sword', 'thy')\n",
    "\n"
   ]
  },
  {
   "cell_type": "markdown",
   "id": "4940bcc8-b6db-4ddd-a0ec-3dcdf5fa4183",
   "metadata": {},
   "source": [
    "# End"
   ]
  }
 ],
 "metadata": {
  "kernelspec": {
   "display_name": "Python (Local)",
   "language": "python",
   "name": "local-base"
  },
  "language_info": {
   "codemirror_mode": {
    "name": "ipython",
    "version": 3
   },
   "file_extension": ".py",
   "mimetype": "text/x-python",
   "name": "python",
   "nbconvert_exporter": "python",
   "pygments_lexer": "ipython3",
   "version": "3.7.12"
  }
 },
 "nbformat": 4,
 "nbformat_minor": 5
}
