{
 "cells": [
  {
   "cell_type": "markdown",
   "id": "c8c76008-ab76-48ef-8237-08a3cc9b356e",
   "metadata": {},
   "source": [
    "# Assignment 05 - Leonardo Paiva\n",
    "\n",
    "Step 1: Make a new Jupyter notebook\n",
    "\n",
    "Step 2: Get a CORGIS dataset\n",
    "\n",
    "Chose another dataset from CORGIS here (Links to an external site.) and download the CSV file\n",
    "\n",
    "https://corgis-edu.github.io/corgis/csv/video_games/\n",
    "https://corgis-edu.github.io/corgis/datasets/csv/video_games/video_games.csv\n"
   ]
  },
  {
   "cell_type": "code",
   "execution_count": 206,
   "id": "bc3e9d87-bcd2-4c20-93e3-9a158498c795",
   "metadata": {},
   "outputs": [],
   "source": [
    "# Step 2: Look at descriptive statistics of this dataset\n",
    "\n",
    "# Use pandas in your notebook to import this data into a dataframe\n",
    "\n",
    "import pandas as pd\n",
    "from scipy import stats\n",
    "import statistics\n",
    "import numpy as np\n",
    "import seaborn as sns\n",
    "import matplotlib.pyplot as plt\n",
    "df = pd.read_csv('video_games.csv')"
   ]
  },
  {
   "cell_type": "code",
   "execution_count": 207,
   "id": "ff1dcc99-d770-4eb6-bf13-6338213bdab0",
   "metadata": {},
   "outputs": [],
   "source": [
    "#Renaming columns name to make it easy for me manipulate the data\n",
    "# 'Metrics.Review Score' = 'COL1\n",
    "# Metrics.Used Price'='COL3\n",
    "df = df.rename(columns={'Metrics.Review Score': 'COL1', 'Metrics.Used Price':'COL3'})"
   ]
  },
  {
   "cell_type": "code",
   "execution_count": 208,
   "id": "d412c2ac-17c7-4fd2-98c4-82fd3634cafa",
   "metadata": {},
   "outputs": [
    {
     "data": {
      "text/html": [
       "<div>\n",
       "<style scoped>\n",
       "    .dataframe tbody tr th:only-of-type {\n",
       "        vertical-align: middle;\n",
       "    }\n",
       "\n",
       "    .dataframe tbody tr th {\n",
       "        vertical-align: top;\n",
       "    }\n",
       "\n",
       "    .dataframe thead th {\n",
       "        text-align: right;\n",
       "    }\n",
       "</style>\n",
       "<table border=\"1\" class=\"dataframe\">\n",
       "  <thead>\n",
       "    <tr style=\"text-align: right;\">\n",
       "      <th></th>\n",
       "      <th>Features.Max Players</th>\n",
       "      <th>COL1</th>\n",
       "      <th>Metrics.Sales</th>\n",
       "      <th>COL3</th>\n",
       "      <th>Release.Year</th>\n",
       "      <th>Length.All PlayStyles.Average</th>\n",
       "      <th>Length.All PlayStyles.Leisure</th>\n",
       "      <th>Length.All PlayStyles.Median</th>\n",
       "      <th>Length.All PlayStyles.Polled</th>\n",
       "      <th>Length.All PlayStyles.Rushed</th>\n",
       "      <th>...</th>\n",
       "      <th>Length.Main + Extras.Average</th>\n",
       "      <th>Length.Main + Extras.Leisure</th>\n",
       "      <th>Length.Main + Extras.Median</th>\n",
       "      <th>Length.Main + Extras.Polled</th>\n",
       "      <th>Length.Main + Extras.Rushed</th>\n",
       "      <th>Length.Main Story.Average</th>\n",
       "      <th>Length.Main Story.Leisure</th>\n",
       "      <th>Length.Main Story.Median</th>\n",
       "      <th>Length.Main Story.Polled</th>\n",
       "      <th>Length.Main Story.Rushed</th>\n",
       "    </tr>\n",
       "  </thead>\n",
       "  <tbody>\n",
       "    <tr>\n",
       "      <th>count</th>\n",
       "      <td>1212.000000</td>\n",
       "      <td>1212.000000</td>\n",
       "      <td>1212.00000</td>\n",
       "      <td>1212.000000</td>\n",
       "      <td>1212.000000</td>\n",
       "      <td>1212.000000</td>\n",
       "      <td>1212.000000</td>\n",
       "      <td>1212.000000</td>\n",
       "      <td>1212.000000</td>\n",
       "      <td>1212.000000</td>\n",
       "      <td>...</td>\n",
       "      <td>1212.000000</td>\n",
       "      <td>1212.000000</td>\n",
       "      <td>1212.000000</td>\n",
       "      <td>1212.000000</td>\n",
       "      <td>1212.000000</td>\n",
       "      <td>1212.000000</td>\n",
       "      <td>1212.000000</td>\n",
       "      <td>1212.000000</td>\n",
       "      <td>1212.000000</td>\n",
       "      <td>1212.000000</td>\n",
       "    </tr>\n",
       "    <tr>\n",
       "      <th>mean</th>\n",
       "      <td>1.658416</td>\n",
       "      <td>68.828383</td>\n",
       "      <td>0.50316</td>\n",
       "      <td>17.393894</td>\n",
       "      <td>2006.820132</td>\n",
       "      <td>13.653177</td>\n",
       "      <td>26.250426</td>\n",
       "      <td>11.225371</td>\n",
       "      <td>44.415842</td>\n",
       "      <td>9.396163</td>\n",
       "      <td>...</td>\n",
       "      <td>12.731491</td>\n",
       "      <td>18.866048</td>\n",
       "      <td>12.103548</td>\n",
       "      <td>13.995875</td>\n",
       "      <td>10.319788</td>\n",
       "      <td>8.465952</td>\n",
       "      <td>11.051966</td>\n",
       "      <td>8.280941</td>\n",
       "      <td>24.882838</td>\n",
       "      <td>6.974697</td>\n",
       "    </tr>\n",
       "    <tr>\n",
       "      <th>std</th>\n",
       "      <td>1.204377</td>\n",
       "      <td>12.956266</td>\n",
       "      <td>1.06985</td>\n",
       "      <td>5.018972</td>\n",
       "      <td>1.050653</td>\n",
       "      <td>19.397156</td>\n",
       "      <td>51.598941</td>\n",
       "      <td>13.493717</td>\n",
       "      <td>154.837893</td>\n",
       "      <td>11.176371</td>\n",
       "      <td>...</td>\n",
       "      <td>23.979610</td>\n",
       "      <td>42.917021</td>\n",
       "      <td>23.355374</td>\n",
       "      <td>57.333257</td>\n",
       "      <td>20.895117</td>\n",
       "      <td>9.691745</td>\n",
       "      <td>14.092617</td>\n",
       "      <td>9.502600</td>\n",
       "      <td>87.382770</td>\n",
       "      <td>7.964522</td>\n",
       "    </tr>\n",
       "    <tr>\n",
       "      <th>min</th>\n",
       "      <td>1.000000</td>\n",
       "      <td>19.000000</td>\n",
       "      <td>0.01000</td>\n",
       "      <td>4.950000</td>\n",
       "      <td>2004.000000</td>\n",
       "      <td>0.000000</td>\n",
       "      <td>0.000000</td>\n",
       "      <td>0.000000</td>\n",
       "      <td>0.000000</td>\n",
       "      <td>0.000000</td>\n",
       "      <td>...</td>\n",
       "      <td>0.000000</td>\n",
       "      <td>0.000000</td>\n",
       "      <td>0.000000</td>\n",
       "      <td>0.000000</td>\n",
       "      <td>0.000000</td>\n",
       "      <td>0.000000</td>\n",
       "      <td>0.000000</td>\n",
       "      <td>0.000000</td>\n",
       "      <td>0.000000</td>\n",
       "      <td>0.000000</td>\n",
       "    </tr>\n",
       "    <tr>\n",
       "      <th>25%</th>\n",
       "      <td>1.000000</td>\n",
       "      <td>60.000000</td>\n",
       "      <td>0.09000</td>\n",
       "      <td>14.950000</td>\n",
       "      <td>2006.000000</td>\n",
       "      <td>3.562500</td>\n",
       "      <td>4.000000</td>\n",
       "      <td>3.025000</td>\n",
       "      <td>1.000000</td>\n",
       "      <td>2.600000</td>\n",
       "      <td>...</td>\n",
       "      <td>0.000000</td>\n",
       "      <td>0.000000</td>\n",
       "      <td>0.000000</td>\n",
       "      <td>0.000000</td>\n",
       "      <td>0.000000</td>\n",
       "      <td>0.000000</td>\n",
       "      <td>0.000000</td>\n",
       "      <td>0.000000</td>\n",
       "      <td>0.000000</td>\n",
       "      <td>0.000000</td>\n",
       "    </tr>\n",
       "    <tr>\n",
       "      <th>50%</th>\n",
       "      <td>1.000000</td>\n",
       "      <td>70.000000</td>\n",
       "      <td>0.21000</td>\n",
       "      <td>17.950000</td>\n",
       "      <td>2007.000000</td>\n",
       "      <td>8.858333</td>\n",
       "      <td>12.000000</td>\n",
       "      <td>8.000000</td>\n",
       "      <td>6.000000</td>\n",
       "      <td>6.708333</td>\n",
       "      <td>...</td>\n",
       "      <td>7.291667</td>\n",
       "      <td>8.000000</td>\n",
       "      <td>7.000000</td>\n",
       "      <td>1.000000</td>\n",
       "      <td>6.283333</td>\n",
       "      <td>6.575000</td>\n",
       "      <td>8.000000</td>\n",
       "      <td>6.041667</td>\n",
       "      <td>3.000000</td>\n",
       "      <td>5.341667</td>\n",
       "    </tr>\n",
       "    <tr>\n",
       "      <th>75%</th>\n",
       "      <td>2.000000</td>\n",
       "      <td>79.000000</td>\n",
       "      <td>0.46000</td>\n",
       "      <td>17.950000</td>\n",
       "      <td>2008.000000</td>\n",
       "      <td>16.033333</td>\n",
       "      <td>27.600000</td>\n",
       "      <td>13.783333</td>\n",
       "      <td>25.000000</td>\n",
       "      <td>11.366667</td>\n",
       "      <td>...</td>\n",
       "      <td>16.112500</td>\n",
       "      <td>21.033333</td>\n",
       "      <td>15.000000</td>\n",
       "      <td>7.000000</td>\n",
       "      <td>12.941667</td>\n",
       "      <td>11.033333</td>\n",
       "      <td>14.508333</td>\n",
       "      <td>10.533333</td>\n",
       "      <td>14.000000</td>\n",
       "      <td>9.312500</td>\n",
       "    </tr>\n",
       "    <tr>\n",
       "      <th>max</th>\n",
       "      <td>8.000000</td>\n",
       "      <td>98.000000</td>\n",
       "      <td>14.66000</td>\n",
       "      <td>49.950000</td>\n",
       "      <td>2008.000000</td>\n",
       "      <td>279.733333</td>\n",
       "      <td>476.266667</td>\n",
       "      <td>126.000000</td>\n",
       "      <td>2300.000000</td>\n",
       "      <td>120.200000</td>\n",
       "      <td>...</td>\n",
       "      <td>291.000000</td>\n",
       "      <td>478.933333</td>\n",
       "      <td>291.000000</td>\n",
       "      <td>1100.000000</td>\n",
       "      <td>291.000000</td>\n",
       "      <td>72.383333</td>\n",
       "      <td>135.583333</td>\n",
       "      <td>70.000000</td>\n",
       "      <td>1100.000000</td>\n",
       "      <td>70.000000</td>\n",
       "    </tr>\n",
       "  </tbody>\n",
       "</table>\n",
       "<p>8 rows × 25 columns</p>\n",
       "</div>"
      ],
      "text/plain": [
       "       Features.Max Players         COL1  Metrics.Sales         COL3  \\\n",
       "count           1212.000000  1212.000000     1212.00000  1212.000000   \n",
       "mean               1.658416    68.828383        0.50316    17.393894   \n",
       "std                1.204377    12.956266        1.06985     5.018972   \n",
       "min                1.000000    19.000000        0.01000     4.950000   \n",
       "25%                1.000000    60.000000        0.09000    14.950000   \n",
       "50%                1.000000    70.000000        0.21000    17.950000   \n",
       "75%                2.000000    79.000000        0.46000    17.950000   \n",
       "max                8.000000    98.000000       14.66000    49.950000   \n",
       "\n",
       "       Release.Year  Length.All PlayStyles.Average  \\\n",
       "count   1212.000000                    1212.000000   \n",
       "mean    2006.820132                      13.653177   \n",
       "std        1.050653                      19.397156   \n",
       "min     2004.000000                       0.000000   \n",
       "25%     2006.000000                       3.562500   \n",
       "50%     2007.000000                       8.858333   \n",
       "75%     2008.000000                      16.033333   \n",
       "max     2008.000000                     279.733333   \n",
       "\n",
       "       Length.All PlayStyles.Leisure  Length.All PlayStyles.Median  \\\n",
       "count                    1212.000000                   1212.000000   \n",
       "mean                       26.250426                     11.225371   \n",
       "std                        51.598941                     13.493717   \n",
       "min                         0.000000                      0.000000   \n",
       "25%                         4.000000                      3.025000   \n",
       "50%                        12.000000                      8.000000   \n",
       "75%                        27.600000                     13.783333   \n",
       "max                       476.266667                    126.000000   \n",
       "\n",
       "       Length.All PlayStyles.Polled  Length.All PlayStyles.Rushed  ...  \\\n",
       "count                   1212.000000                   1212.000000  ...   \n",
       "mean                      44.415842                      9.396163  ...   \n",
       "std                      154.837893                     11.176371  ...   \n",
       "min                        0.000000                      0.000000  ...   \n",
       "25%                        1.000000                      2.600000  ...   \n",
       "50%                        6.000000                      6.708333  ...   \n",
       "75%                       25.000000                     11.366667  ...   \n",
       "max                     2300.000000                    120.200000  ...   \n",
       "\n",
       "       Length.Main + Extras.Average  Length.Main + Extras.Leisure  \\\n",
       "count                   1212.000000                   1212.000000   \n",
       "mean                      12.731491                     18.866048   \n",
       "std                       23.979610                     42.917021   \n",
       "min                        0.000000                      0.000000   \n",
       "25%                        0.000000                      0.000000   \n",
       "50%                        7.291667                      8.000000   \n",
       "75%                       16.112500                     21.033333   \n",
       "max                      291.000000                    478.933333   \n",
       "\n",
       "       Length.Main + Extras.Median  Length.Main + Extras.Polled  \\\n",
       "count                  1212.000000                  1212.000000   \n",
       "mean                     12.103548                    13.995875   \n",
       "std                      23.355374                    57.333257   \n",
       "min                       0.000000                     0.000000   \n",
       "25%                       0.000000                     0.000000   \n",
       "50%                       7.000000                     1.000000   \n",
       "75%                      15.000000                     7.000000   \n",
       "max                     291.000000                  1100.000000   \n",
       "\n",
       "       Length.Main + Extras.Rushed  Length.Main Story.Average  \\\n",
       "count                  1212.000000                1212.000000   \n",
       "mean                     10.319788                   8.465952   \n",
       "std                      20.895117                   9.691745   \n",
       "min                       0.000000                   0.000000   \n",
       "25%                       0.000000                   0.000000   \n",
       "50%                       6.283333                   6.575000   \n",
       "75%                      12.941667                  11.033333   \n",
       "max                     291.000000                  72.383333   \n",
       "\n",
       "       Length.Main Story.Leisure  Length.Main Story.Median  \\\n",
       "count                1212.000000               1212.000000   \n",
       "mean                   11.051966                  8.280941   \n",
       "std                    14.092617                  9.502600   \n",
       "min                     0.000000                  0.000000   \n",
       "25%                     0.000000                  0.000000   \n",
       "50%                     8.000000                  6.041667   \n",
       "75%                    14.508333                 10.533333   \n",
       "max                   135.583333                 70.000000   \n",
       "\n",
       "       Length.Main Story.Polled  Length.Main Story.Rushed  \n",
       "count               1212.000000               1212.000000  \n",
       "mean                  24.882838                  6.974697  \n",
       "std                   87.382770                  7.964522  \n",
       "min                    0.000000                  0.000000  \n",
       "25%                    0.000000                  0.000000  \n",
       "50%                    3.000000                  5.341667  \n",
       "75%                   14.000000                  9.312500  \n",
       "max                 1100.000000                 70.000000  \n",
       "\n",
       "[8 rows x 25 columns]"
      ]
     },
     "execution_count": 208,
     "metadata": {},
     "output_type": "execute_result"
    }
   ],
   "source": [
    "# Print descriptive statistics about the columns using the \"describe\" method\n",
    "df.describe()"
   ]
  },
  {
   "cell_type": "code",
   "execution_count": 209,
   "id": "c7e77a1f-474f-4c0c-9cdd-48c22db302ce",
   "metadata": {},
   "outputs": [
    {
     "name": "stdout",
     "output_type": "stream",
     "text": [
      "Mean =  68.82838283828383\n",
      "Median =  70.0\n",
      "Mode =  0    72\n",
      "dtype: int64\n",
      "20 % Trimmed Mean =  69.9065934065934\n"
     ]
    }
   ],
   "source": [
    "# Choose a numerical column (which I'll call COL1) and calculate the mean, median, mode, and trimmed mean. \n",
    "# Don't use the \"describe\" method, but you can use other convenient pandas methods to do this if you want For the trimmed mean, you can choose what to trim, but comment on the amount you're choosing to trim.\n",
    "\n",
    "print(\"Mean = \", df['COL1'].mean())\n",
    "print(\"Median = \", df['COL1'].median())\n",
    "print(\"Mode = \", df['COL1'].mode())\n",
    "print(\"20 % Trimmed Mean = \", stats.trim_mean(df.COL1, 0.20))"
   ]
  },
  {
   "cell_type": "code",
   "execution_count": 210,
   "id": "3fa0619f-b2c5-4ca3-aa13-f97ce661af1e",
   "metadata": {},
   "outputs": [
    {
     "data": {
      "text/plain": [
       "<AxesSubplot:ylabel='Frequency'>"
      ]
     },
     "execution_count": 210,
     "metadata": {},
     "output_type": "execute_result"
    },
    {
     "data": {
      "image/png": "[encoded data removed]",
      "text/plain": [
       "<Figure size 432x288 with 1 Axes>"
      ]
     },
     "metadata": {
      "needs_background": "light"
     },
     "output_type": "display_data"
    }
   ],
   "source": [
    "# Plot a histogram of COL1 data and comment on the relative locations of the mean, median, mode, and trimmed mean.\n",
    "df['COL1'].plot.hist()\n"
   ]
  },
  {
   "cell_type": "code",
   "execution_count": 211,
   "id": "d3aa423d-5140-47a0-9d4d-46d59d6de72f",
   "metadata": {},
   "outputs": [],
   "source": [
    "#Calculate the mean absolute deviation, the standard deviation, and the interquartile range (the difference of the 75% and 25% quantile)\n",
    "#Comment as well on how they compare to each other and to the histogram plot."
   ]
  },
  {
   "cell_type": "code",
   "execution_count": 212,
   "id": "adefde30-727e-4d01-b6de-2d2006adcf68",
   "metadata": {},
   "outputs": [
    {
     "name": "stdout",
     "output_type": "stream",
     "text": [
      "Standard Deviation =  12.956265876347192\n",
      "Qauntile =  70.0\n",
      "25% Qauntile =  60.0\n",
      "75% Qauntile =  79.0\n"
     ]
    }
   ],
   "source": [
    "print(\"Standard Deviation = \", df['COL1'].std())\n",
    "print(\"Qauntile = \", df['COL1'].quantile())\n",
    "print(\"25% Qauntile = \", df['COL1'].quantile(0.25))\n",
    "print(\"75% Qauntile = \", df['COL1'].quantile(0.75))"
   ]
  },
  {
   "cell_type": "code",
   "execution_count": 213,
   "id": "96367590-0bea-4902-9a31-4b41e0e77534",
   "metadata": {},
   "outputs": [
    {
     "name": "stdout",
     "output_type": "stream",
     "text": [
      "The 25% and 75% quantiles that match with features in the plot is in between the range of 60 and 80\n"
     ]
    },
    {
     "data": {
      "image/png": "[encoded data removed]",
      "text/plain": [
       "<Figure size 432x288 with 1 Axes>"
      ]
     },
     "metadata": {
      "needs_background": "light"
     },
     "output_type": "display_data"
    }
   ],
   "source": [
    "#plot a box plot of COL1\n",
    "#Comment on how the locations of the calculated median and the 25% and 75% quantiles match with features in the plot\n",
    "df['COL1'].plot(kind='box')\n",
    "print(\"The 25% and 75% quantiles that match with features in the plot is in between the range of 60 and 80\")"
   ]
  },
  {
   "cell_type": "code",
   "execution_count": 214,
   "id": "b765ee1a-d27e-41ae-b939-915f48c37e93",
   "metadata": {},
   "outputs": [],
   "source": [
    "#Make a new column in your dataframe called \"COL1_mean_split\"\n",
    "#The values in the \"COL1_mean_split\" column should be equal to either 0, 1, or 2.  For any given row:\n",
    "#If the COL1 value < 0.5 * (COL1 mean), set the COL1_mean_split value to 0\n",
    "#If the COL1 value >= 0.5 * (COL1 mean) and COL1 value < (COL1 mean), set the COL1_mean_split value to 1\n",
    "#If the COL1 value >= (COL1 mean), set the COL1_mean_split value to 2\n",
    "\n",
    "\n",
    "\n",
    "\n",
    "#### Hi Professor - I was not able to comlete this task"
   ]
  },
  {
   "cell_type": "code",
   "execution_count": 215,
   "id": "b83384f9-4e32-4dbb-b2b1-2ea88d4ab17d",
   "metadata": {},
   "outputs": [],
   "source": [
    "# Make a bar plot showing the count of the values of 0, 1, and 2 in the COL1_mean_split column\n",
    "\n",
    "\n",
    "#### Hi Professor - I was not able to comlete this task because of the dependency of the previous task"
   ]
  },
  {
   "cell_type": "code",
   "execution_count": 216,
   "id": "a6f02761-06c3-427f-bd84-951138fdc957",
   "metadata": {},
   "outputs": [],
   "source": [
    "#Make another box plot of the COL1 values grouped by COL1_mean_split values\n",
    "#There should be three boxes in the plot, one for each group of rows corresponding to COL1_mean_split values of 0, 1, or 2\n",
    "\n",
    "\n",
    "#### Hi Professor - I was not able to comlete this task because of the dependency of the previous task"
   ]
  },
  {
   "cell_type": "code",
   "execution_count": 217,
   "id": "3e0469ff-a9f1-4e0c-94fd-4a3e0d4d0565",
   "metadata": {},
   "outputs": [
    {
     "data": {
      "text/plain": [
       "array([[1.        , 0.14430018],\n",
       "       [0.14430018, 1.        ]])"
      ]
     },
     "execution_count": 217,
     "metadata": {},
     "output_type": "execute_result"
    }
   ],
   "source": [
    "#Choose another numerical column (COL3)\n",
    "#Calculate the correlation between COL1 and COL3\n",
    "#Make a scatter plot of COL1 vs COL3 and comment on whether the calculated correlation value makes sense.\n",
    "#Make a hexagonal binning plot of COL1 vs COL3\n",
    "\n",
    "np.corrcoef(df['COL1'], df['COL3'])\n"
   ]
  },
  {
   "cell_type": "code",
   "execution_count": 218,
   "id": "d5039888-5e13-43d4-903e-9da57feb5343",
   "metadata": {},
   "outputs": [
    {
     "name": "stdout",
     "output_type": "stream",
     "text": [
      "As we can see - There is no Correlation between COL1 and COL3, 0.14 means is close to 0 so we assume that there is no correlation\n"
     ]
    }
   ],
   "source": [
    "print (\"As we can see - There is no Correlation between COL1 and COL3, 0.14 means is close to 0 so we assume that there is no correlation\")"
   ]
  },
  {
   "cell_type": "code",
   "execution_count": 219,
   "id": "be993a0d-8101-48df-a681-eef5394fcd14",
   "metadata": {},
   "outputs": [
    {
     "data": {
      "text/plain": [
       "<AxesSubplot:xlabel='COL1', ylabel='COL3'>"
      ]
     },
     "execution_count": 219,
     "metadata": {},
     "output_type": "execute_result"
    },
    {
     "data": {
      "image/png": "[encoded data removed]",
      "text/plain": [
       "<Figure size 432x288 with 1 Axes>"
      ]
     },
     "metadata": {
      "needs_background": "light"
     },
     "output_type": "display_data"
    }
   ],
   "source": [
    "df.plot(kind='scatter',\n",
    "        x='COL1',\n",
    "        y='COL3')"
   ]
  },
  {
   "cell_type": "code",
   "execution_count": 220,
   "id": "bace6df2-2077-492d-a196-c49b18739cd8",
   "metadata": {},
   "outputs": [
    {
     "data": {
      "text/plain": [
       "<AxesSubplot:xlabel='COL1', ylabel='COL3'>"
      ]
     },
     "execution_count": 220,
     "metadata": {},
     "output_type": "execute_result"
    },
    {
     "data": {
      "image/png": "[encoded data removed]",
      "text/plain": [
       "<Figure size 432x288 with 2 Axes>"
      ]
     },
     "metadata": {
      "needs_background": "light"
     },
     "output_type": "display_data"
    }
   ],
   "source": [
    "df.plot(kind='hexbin',\n",
    "        x='COL1',\n",
    "        y='COL3')"
   ]
  },
  {
   "cell_type": "code",
   "execution_count": 244,
   "id": "4c853d51-1e8d-42b1-89cc-4a957e8862ec",
   "metadata": {},
   "outputs": [
    {
     "data": {
      "image/png": "[encoded data removed]",
      "text/plain": [
       "<Figure size 216x216 with 1 Axes>"
      ]
     },
     "metadata": {
      "needs_background": "light"
     },
     "output_type": "display_data"
    }
   ],
   "source": [
    "g = sns.FacetGrid(df)\n",
    "g.map(sns.histplot, 'COL3', 'COL1')\n",
    "plt.show()"
   ]
  },
  {
   "cell_type": "code",
   "execution_count": null,
   "id": "210985a5-bf4e-4933-8a09-16ee505ead57",
   "metadata": {},
   "outputs": [],
   "source": []
  }
 ],
 "metadata": {
  "kernelspec": {
   "display_name": "Python (Local)",
   "language": "python",
   "name": "local-base"
  },
  "language_info": {
   "codemirror_mode": {
    "name": "ipython",
    "version": 3
   },
   "file_extension": ".py",
   "mimetype": "text/x-python",
   "name": "python",
   "nbconvert_exporter": "python",
   "pygments_lexer": "ipython3",
   "version": "3.7.12"
  }
 },
 "nbformat": 4,
 "nbformat_minor": 5
}
